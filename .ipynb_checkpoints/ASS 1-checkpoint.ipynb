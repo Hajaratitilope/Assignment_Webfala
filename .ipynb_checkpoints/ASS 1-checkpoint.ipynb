{
 "cells": [
  {
   "cell_type": "code",
   "execution_count": 1,
   "id": "efc90873-3974-4fb2-96fb-610d06b74a22",
   "metadata": {},
   "outputs": [
    {
     "name": "stdout",
     "output_type": "stream",
     "text": [
      "My name is Hajarat and I am trying my hands on some codes\n"
     ]
    }
   ],
   "source": [
    "print (\"My name is Hajarat and I am trying my hands on some codes\")"
   ]
  },
  {
   "cell_type": "markdown",
   "id": "3fdf21bc-85dd-4489-9b5b-6a6375723120",
   "metadata": {},
   "source": [
    "# The following set of codes are some learnings on w3school Python tutorial"
   ]
  },
  {
   "cell_type": "markdown",
   "id": "245ef9f4-dc23-4b8b-9084-adc37ed46512",
   "metadata": {},
   "source": [
    "## Assigning values to variables"
   ]
  },
  {
   "cell_type": "code",
   "execution_count": 2,
   "id": "db0a0315-9b94-4ebc-b48b-b4646afc5a12",
   "metadata": {},
   "outputs": [
    {
     "name": "stdout",
     "output_type": "stream",
     "text": [
      "Hajarat\n",
      "Titilope\n",
      "OLUFADE\n"
     ]
    }
   ],
   "source": [
    "a = \"Hajarat\"\n",
    "b = \"Titilope\"\n",
    "c = \"OLUFADE\"\n",
    "print (a)\n",
    "print (b)\n",
    "print (c)"
   ]
  },
  {
   "cell_type": "code",
   "execution_count": 3,
   "id": "56e16544-01c4-4e1b-882d-80711ad87521",
   "metadata": {},
   "outputs": [
    {
     "name": "stdout",
     "output_type": "stream",
     "text": [
      "7 is less than 11\n"
     ]
    }
   ],
   "source": [
    "if 7 < 11:\n",
    "    print (\"7 is less than 11\")"
   ]
  },
  {
   "cell_type": "markdown",
   "id": "81e6ba49-bade-48ab-b266-4b2e7aede9e1",
   "metadata": {},
   "source": [
    "## Comments in Python"
   ]
  },
  {
   "cell_type": "code",
   "execution_count": 4,
   "id": "cf3d8658-e331-4fed-847f-e821ec1ad883",
   "metadata": {},
   "outputs": [],
   "source": [
    "# I am just trying to write a comment.\n",
    "# still trying to wrap my head around how the comment command is being used."
   ]
  },
  {
   "cell_type": "markdown",
   "id": "11ea8132-4b26-432f-8a5c-b5ad9a5089fd",
   "metadata": {},
   "source": [
    "### Multiline Comments in Python"
   ]
  },
  {
   "cell_type": "code",
   "execution_count": 5,
   "id": "480fd62b-f239-4b89-92fe-7a1133946185",
   "metadata": {},
   "outputs": [
    {
     "data": {
      "text/plain": [
       "'\\nI am just trying to write a comment.\\nstill trying to wrap my head around how the comment command is being used.\\n'"
      ]
     },
     "execution_count": 5,
     "metadata": {},
     "output_type": "execute_result"
    }
   ],
   "source": [
    "\"\"\"\n",
    "I am just trying to write a comment.\n",
    "still trying to wrap my head around how the comment command is being used.\n",
    "\"\"\""
   ]
  },
  {
   "cell_type": "markdown",
   "id": "a703d38c-f3d0-4a45-8ed2-95b37b229733",
   "metadata": {},
   "source": [
    "## Variable Type Tutorial"
   ]
  },
  {
   "cell_type": "code",
   "execution_count": 6,
   "id": "e311bc71-7e90-4108-8c23-9092d73e279d",
   "metadata": {},
   "outputs": [
    {
     "name": "stdout",
     "output_type": "stream",
     "text": [
      "Ashraf\n",
      "YUSUF\n",
      "45.6 cm\n",
      "7\n",
      "B2\n"
     ]
    }
   ],
   "source": [
    "pupil_name = \"Ashraf\"\n",
    "PupilSurname = \"YUSUF\"\n",
    "Height = \"45.6 cm\"\n",
    "age = 7\n",
    "class_arm = \"B2\"\n",
    "print (pupil_name)\n",
    "print (PupilSurname)\n",
    "print (Height)\n",
    "print (age)\n",
    "print (class_arm)\n"
   ]
  },
  {
   "cell_type": "markdown",
   "id": "3816e095-2237-4a99-a9cc-a7abc426035e",
   "metadata": {},
   "source": [
    "## Many values = Multiple variables"
   ]
  },
  {
   "cell_type": "code",
   "execution_count": 8,
   "id": "7f717e67-e9c8-46c2-9c38-45c13d3de393",
   "metadata": {},
   "outputs": [
    {
     "name": "stdout",
     "output_type": "stream",
     "text": [
      "1\n",
      "2\n",
      "Titilope\n"
     ]
    }
   ],
   "source": [
    "a, b, c = 1, 2, \"Titilope\"\n",
    "print (a)\n",
    "print (b)\n",
    "print (c)\n"
   ]
  },
  {
   "cell_type": "markdown",
   "id": "adc6728c-c1ef-407e-92ff-b54dbf61cf21",
   "metadata": {},
   "source": [
    "## One value = Multiple Variables"
   ]
  },
  {
   "cell_type": "code",
   "execution_count": 9,
   "id": "3b1989d1-2d87-43ca-b334-27ecc356aa8a",
   "metadata": {},
   "outputs": [
    {
     "name": "stdout",
     "output_type": "stream",
     "text": [
      "2\n",
      "2\n",
      "2\n",
      "Ashraf\n",
      "Ashraf\n",
      "Ashraf\n"
     ]
    }
   ],
   "source": [
    "a = b = c = 2\n",
    "d = e = f = \"Ashraf\"\n",
    "print (a)\n",
    "print (b)\n",
    "print (c)\n",
    "print (d)\n",
    "print (e)\n",
    "print (f)"
   ]
  },
  {
   "cell_type": "markdown",
   "id": "39909217-60c8-4fde-8d4c-aad03df94638",
   "metadata": {},
   "source": [
    "## Unpacking"
   ]
  },
  {
   "cell_type": "code",
   "execution_count": 10,
   "id": "9a3a370b-aa10-4261-ad8d-b4191391467e",
   "metadata": {},
   "outputs": [
    {
     "name": "stdout",
     "output_type": "stream",
     "text": [
      "Nigeria\n",
      "China\n",
      "Canada\n"
     ]
    }
   ],
   "source": [
    "countries = [ \"Nigeria\", 'China', \"Canada\"]\n",
    "a, b, c = countries\n",
    "print (a)\n",
    "print (b)\n",
    "print (c)"
   ]
  },
  {
   "cell_type": "markdown",
   "id": "0fe7e9bc-a301-48f8-a43e-f11cd37d80d5",
   "metadata": {},
   "source": [
    "## Variables Output"
   ]
  },
  {
   "cell_type": "code",
   "execution_count": 12,
   "id": "d25c0338-9836-40c8-97fd-671267d117e9",
   "metadata": {},
   "outputs": [
    {
     "name": "stdout",
     "output_type": "stream",
     "text": [
      "14\n",
      "I am enjoying Python \n",
      "I  am  enjoying  Python \n",
      "6 Python \n"
     ]
    }
   ],
   "source": [
    "a = 6\n",
    "b = 8\n",
    "c = \"I \"\n",
    "d = \"am \"\n",
    "e = \"enjoying \"\n",
    "f = \"Python \"\n",
    "print (a + b)\n",
    "print (c+d+e+f)\n",
    "print (c, d, e, f)\n",
    "print (a, f)"
   ]
  },
  {
   "cell_type": "code",
   "execution_count": null,
   "id": "947436c1-2695-4974-9ba8-862c538a5954",
   "metadata": {},
   "outputs": [],
   "source": []
  }
 ],
 "metadata": {
  "kernelspec": {
   "display_name": "Python 3 (ipykernel)",
   "language": "python",
   "name": "python3"
  },
  "language_info": {
   "codemirror_mode": {
    "name": "ipython",
    "version": 3
   },
   "file_extension": ".py",
   "mimetype": "text/x-python",
   "name": "python",
   "nbconvert_exporter": "python",
   "pygments_lexer": "ipython3",
   "version": "3.11.7"
  }
 },
 "nbformat": 4,
 "nbformat_minor": 5
}

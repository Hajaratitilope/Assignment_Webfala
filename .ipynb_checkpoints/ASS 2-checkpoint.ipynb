{
 "cells": [
  {
   "cell_type": "markdown",
   "id": "270c2ba2-78a0-4923-9c20-2c69a6cd8b42",
   "metadata": {},
   "source": [
    "# Continuation on Python Tutorial on W3school"
   ]
  },
  {
   "cell_type": "markdown",
   "id": "2cd44f44-0423-4db6-b535-820bcbdb2d6c",
   "metadata": {},
   "source": [
    "## Global Variable"
   ]
  },
  {
   "cell_type": "code",
   "execution_count": 1,
   "id": "3caaa7d0-9fb5-4792-95dd-c503dc06608f",
   "metadata": {},
   "outputs": [
    {
     "name": "stdout",
     "output_type": "stream",
     "text": [
      "I am using Python for Data Science\n"
     ]
    }
   ],
   "source": [
    "a = \"I am\"\n",
    "\n",
    "def myfunc() :\n",
    "  print ( a + \" using Python for Data Science\")\n",
    "  \n",
    "myfunc()"
   ]
  },
  {
   "cell_type": "code",
   "execution_count": 2,
   "id": "81de5e21-94fe-44f0-96b6-f8b8f73bb153",
   "metadata": {},
   "outputs": [
    {
     "name": "stdout",
     "output_type": "stream",
     "text": [
      "We are using Python for Data Science.\n",
      "I am using Python for Data Science.\n"
     ]
    }
   ],
   "source": [
    "a = \"I am\"\n",
    "\n",
    "def myfunc():\n",
    "  a = \"We are\"\n",
    "  print( a + \" using Python for Data Science.\")\n",
    "  \n",
    "myfunc()\n",
    "\n",
    "print( a + \" using Python for Data Science.\")"
   ]
  },
  {
   "cell_type": "markdown",
   "id": "cf987ca3-9d07-4a98-baff-3bdb5f161561",
   "metadata": {},
   "source": [
    "## Using the \"global\" keyword in Python"
   ]
  },
  {
   "cell_type": "code",
   "execution_count": 3,
   "id": "81458d39-bee0-4e3d-bae6-2da8f5f392b5",
   "metadata": {},
   "outputs": [
    {
     "name": "stdout",
     "output_type": "stream",
     "text": [
      "I am using Python for Data Science.\n"
     ]
    }
   ],
   "source": [
    "def myfunc():\n",
    "  global a\n",
    "  a = \"I am\"\n",
    "  \n",
    "myfunc()\n",
    "\n",
    "print(a + \" using Python for Data Science.\")\n"
   ]
  },
  {
   "cell_type": "code",
   "execution_count": 4,
   "id": "79100e61-8fab-44f5-96bd-e8bee028b318",
   "metadata": {},
   "outputs": [
    {
     "name": "stdout",
     "output_type": "stream",
     "text": [
      "We are using Python for Data Science\n"
     ]
    }
   ],
   "source": [
    "a = \"I am\"\n",
    "\n",
    "def myfunc():\n",
    "  global a\n",
    "  a = \"We are\"\n",
    "  \n",
    "myfunc()\n",
    "\n",
    "print( a + \" using Python for Data Science\")"
   ]
  },
  {
   "cell_type": "markdown",
   "id": "977f7a37-cad3-4917-817a-1e5c4919438e",
   "metadata": {},
   "source": [
    "## Examples of some Data Types in Python"
   ]
  },
  {
   "cell_type": "code",
   "execution_count": 5,
   "id": "774bd68c-db68-4275-9b29-9be465e534f1",
   "metadata": {},
   "outputs": [
    {
     "name": "stdout",
     "output_type": "stream",
     "text": [
      "8j\n",
      "<class 'complex'>\n",
      "['Nigeria', 'Canada', 'Australia']\n",
      "<class 'list'>\n",
      "('Cat', 'Lion', 'Tiger')\n",
      "<class 'tuple'>\n",
      "range(5, 10)\n",
      "<class 'range'>\n",
      "False\n",
      "<class 'bool'>\n"
     ]
    }
   ],
   "source": [
    "a = 8j\n",
    "\n",
    "#display a:\n",
    "print (a)\n",
    "\n",
    "#display the data type of a:\n",
    "print(type(a))\n",
    "\n",
    "b = [\"Nigeria\", \"Canada\", \"Australia\"]\n",
    "\n",
    "#display b:\n",
    "print (b)\n",
    "\n",
    "#display the data type of b:\n",
    "print(type(b))\n",
    "\n",
    "c = (\"Cat\", \"Lion\", \"Tiger\")\n",
    "\n",
    "#display c:\n",
    "print(c)\n",
    "\n",
    "#display the data type of c:\n",
    "print(type(c))\n",
    "\n",
    "d = range(5, 10)\n",
    "\n",
    "#display d:\n",
    "print(d)\n",
    "\n",
    "#display the data type of d:\n",
    "print(type(d))\n",
    "\n",
    "e = False\n",
    "\n",
    "#display e:\n",
    "print(e)\n",
    "\n",
    "#display the data type of e:\n",
    "print(type(e))"
   ]
  },
  {
   "cell_type": "code",
   "execution_count": null,
   "id": "cb3fc3d8-e339-4b1b-8ebe-12c26a598ac3",
   "metadata": {},
   "outputs": [],
   "source": []
  }
 ],
 "metadata": {
  "kernelspec": {
   "display_name": "Python 3 (ipykernel)",
   "language": "python",
   "name": "python3"
  },
  "language_info": {
   "codemirror_mode": {
    "name": "ipython",
    "version": 3
   },
   "file_extension": ".py",
   "mimetype": "text/x-python",
   "name": "python",
   "nbconvert_exporter": "python",
   "pygments_lexer": "ipython3",
   "version": "3.11.7"
  }
 },
 "nbformat": 4,
 "nbformat_minor": 5
}

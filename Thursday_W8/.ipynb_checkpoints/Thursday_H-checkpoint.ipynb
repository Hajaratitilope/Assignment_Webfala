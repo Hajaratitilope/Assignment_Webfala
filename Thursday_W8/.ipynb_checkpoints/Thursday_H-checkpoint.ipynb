{
 "cells": [
  {
   "cell_type": "code",
   "execution_count": 2,
   "id": "ec44ec83-4896-4934-9dec-fe522247a5a5",
   "metadata": {},
   "outputs": [],
   "source": [
    "import pandas as pd"
   ]
  },
  {
   "cell_type": "code",
   "execution_count": 3,
   "id": "831c5a7e-63de-43db-8b8c-02ef424e5f75",
   "metadata": {},
   "outputs": [],
   "source": [
    "df = pd.read_csv(r\"C:\\Users\\HP\\Desktop\\Webfala\\DataSets\\framingham.csv\")"
   ]
  },
  {
   "cell_type": "code",
   "execution_count": 11,
   "id": "97251b37-bf6c-4c9e-8f00-8528eb3c4e4e",
   "metadata": {},
   "outputs": [
    {
     "data": {
      "text/html": [
       "<div>\n",
       "<style scoped>\n",
       "    .dataframe tbody tr th:only-of-type {\n",
       "        vertical-align: middle;\n",
       "    }\n",
       "\n",
       "    .dataframe tbody tr th {\n",
       "        vertical-align: top;\n",
       "    }\n",
       "\n",
       "    .dataframe thead th {\n",
       "        text-align: right;\n",
       "    }\n",
       "</style>\n",
       "<table border=\"1\" class=\"dataframe\">\n",
       "  <thead>\n",
       "    <tr style=\"text-align: right;\">\n",
       "      <th></th>\n",
       "      <th>male</th>\n",
       "      <th>age</th>\n",
       "      <th>education</th>\n",
       "      <th>currentSmoker</th>\n",
       "      <th>cigsPerDay</th>\n",
       "      <th>BPMeds</th>\n",
       "      <th>prevalentStroke</th>\n",
       "      <th>prevalentHyp</th>\n",
       "      <th>diabetes</th>\n",
       "      <th>totChol</th>\n",
       "      <th>sysBP</th>\n",
       "      <th>diaBP</th>\n",
       "      <th>BMI</th>\n",
       "      <th>heartRate</th>\n",
       "      <th>glucose</th>\n",
       "      <th>TenYearCHD</th>\n",
       "    </tr>\n",
       "  </thead>\n",
       "  <tbody>\n",
       "    <tr>\n",
       "      <th>0</th>\n",
       "      <td>Male</td>\n",
       "      <td>39</td>\n",
       "      <td>post grad</td>\n",
       "      <td>No</td>\n",
       "      <td>0.0</td>\n",
       "      <td>No</td>\n",
       "      <td>No</td>\n",
       "      <td>No</td>\n",
       "      <td>No</td>\n",
       "      <td>195.0</td>\n",
       "      <td>106.0</td>\n",
       "      <td>70.0</td>\n",
       "      <td>26.97</td>\n",
       "      <td>80.0</td>\n",
       "      <td>77.0</td>\n",
       "      <td>No</td>\n",
       "    </tr>\n",
       "    <tr>\n",
       "      <th>1</th>\n",
       "      <td>Female</td>\n",
       "      <td>46</td>\n",
       "      <td>Secondary Edu</td>\n",
       "      <td>No</td>\n",
       "      <td>0.0</td>\n",
       "      <td>No</td>\n",
       "      <td>No</td>\n",
       "      <td>No</td>\n",
       "      <td>No</td>\n",
       "      <td>250.0</td>\n",
       "      <td>121.0</td>\n",
       "      <td>81.0</td>\n",
       "      <td>28.73</td>\n",
       "      <td>95.0</td>\n",
       "      <td>76.0</td>\n",
       "      <td>No</td>\n",
       "    </tr>\n",
       "  </tbody>\n",
       "</table>\n",
       "</div>"
      ],
      "text/plain": [
       "     male  age      education currentSmoker  cigsPerDay BPMeds  \\\n",
       "0    Male   39      post grad            No         0.0     No   \n",
       "1  Female   46  Secondary Edu            No         0.0     No   \n",
       "\n",
       "  prevalentStroke prevalentHyp diabetes  totChol  sysBP  diaBP    BMI  \\\n",
       "0              No           No       No    195.0  106.0   70.0  26.97   \n",
       "1              No           No       No    250.0  121.0   81.0  28.73   \n",
       "\n",
       "   heartRate  glucose TenYearCHD  \n",
       "0       80.0     77.0         No  \n",
       "1       95.0     76.0         No  "
      ]
     },
     "execution_count": 11,
     "metadata": {},
     "output_type": "execute_result"
    }
   ],
   "source": [
    "df.head(2)"
   ]
  },
  {
   "cell_type": "markdown",
   "id": "9c8cf291-7e8e-429f-ba57-54c957307649",
   "metadata": {},
   "source": [
    "# Exploratory data analysis"
   ]
  },
  {
   "cell_type": "markdown",
   "id": "015e7518-9082-4e1d-9cf7-ae03119b2e91",
   "metadata": {},
   "source": [
    " change column name (male)\n",
    " missing values"
   ]
  },
  {
   "cell_type": "code",
   "execution_count": 12,
   "id": "cae3c2e4-610a-45f6-9c9e-adce021ddf58",
   "metadata": {},
   "outputs": [
    {
     "name": "stdout",
     "output_type": "stream",
     "text": [
      "<class 'pandas.core.frame.DataFrame'>\n",
      "RangeIndex: 4240 entries, 0 to 4239\n",
      "Data columns (total 16 columns):\n",
      " #   Column           Non-Null Count  Dtype  \n",
      "---  ------           --------------  -----  \n",
      " 0   male             4240 non-null   object \n",
      " 1   age              4240 non-null   int64  \n",
      " 2   education        4135 non-null   object \n",
      " 3   currentSmoker    4240 non-null   object \n",
      " 4   cigsPerDay       4211 non-null   float64\n",
      " 5   BPMeds           4187 non-null   object \n",
      " 6   prevalentStroke  4240 non-null   object \n",
      " 7   prevalentHyp     4240 non-null   object \n",
      " 8   diabetes         4240 non-null   object \n",
      " 9   totChol          4190 non-null   float64\n",
      " 10  sysBP            4240 non-null   float64\n",
      " 11  diaBP            4240 non-null   float64\n",
      " 12  BMI              4221 non-null   float64\n",
      " 13  heartRate        4239 non-null   float64\n",
      " 14  glucose          3852 non-null   float64\n",
      " 15  TenYearCHD       4240 non-null   object \n",
      "dtypes: float64(7), int64(1), object(8)\n",
      "memory usage: 530.1+ KB\n"
     ]
    }
   ],
   "source": [
    "df.info()"
   ]
  },
  {
   "cell_type": "code",
   "execution_count": 82,
   "id": "bfba1583-1738-4a1e-9106-7241e6758529",
   "metadata": {},
   "outputs": [
    {
     "data": {
      "text/plain": [
       "male                 0\n",
       "age                  0\n",
       "education          105\n",
       "currentSmoker        0\n",
       "cigsPerDay          29\n",
       "BPMeds              53\n",
       "prevalentStroke      0\n",
       "prevalentHyp         0\n",
       "diabetes             0\n",
       "totChol             50\n",
       "sysBP                0\n",
       "diaBP                0\n",
       "BMI                 19\n",
       "heartRate            1\n",
       "glucose            388\n",
       "TenYearCHD           0\n",
       "dtype: int64"
      ]
     },
     "execution_count": 82,
     "metadata": {},
     "output_type": "execute_result"
    }
   ],
   "source": [
    "df.isnull().sum()"
   ]
  },
  {
   "cell_type": "code",
   "execution_count": 14,
   "id": "f5bd1184-7f44-4d8d-9332-3bc5df8e274c",
   "metadata": {},
   "outputs": [],
   "source": [
    "df.rename(columns = {'male':'gender'}, inplace = True)"
   ]
  },
  {
   "cell_type": "markdown",
   "id": "1e3d0e41-9a6b-4988-992e-28a2b5e3a761",
   "metadata": {},
   "source": [
    "missing values"
   ]
  },
  {
   "cell_type": "code",
   "execution_count": 25,
   "id": "57687b18-14e5-4faa-a007-411b4777d71b",
   "metadata": {},
   "outputs": [
    {
     "data": {
      "text/plain": [
       "0"
      ]
     },
     "execution_count": 25,
     "metadata": {},
     "output_type": "execute_result"
    }
   ],
   "source": [
    "df['gender'].isnull().sum()"
   ]
  },
  {
   "cell_type": "code",
   "execution_count": 28,
   "id": "f2749970-d2e1-4595-8917-b331f2ff5d04",
   "metadata": {},
   "outputs": [
    {
     "data": {
      "text/plain": [
       "(4240, 16)"
      ]
     },
     "execution_count": 28,
     "metadata": {},
     "output_type": "execute_result"
    }
   ],
   "source": [
    "df.shape"
   ]
  },
  {
   "cell_type": "code",
   "execution_count": 29,
   "id": "dd051492-7e19-4316-a44f-f24f3429bf58",
   "metadata": {},
   "outputs": [
    {
     "data": {
      "text/plain": [
       "Index(['gender', 'age', 'education', 'currentSmoker', 'cigsPerDay', 'BPMeds',\n",
       "       'prevalentStroke', 'prevalentHyp', 'diabetes', 'totChol', 'sysBP',\n",
       "       'diaBP', 'BMI', 'heartRate', 'glucose', 'TenYearCHD'],\n",
       "      dtype='object')"
      ]
     },
     "execution_count": 29,
     "metadata": {},
     "output_type": "execute_result"
    }
   ],
   "source": [
    "df.columns"
   ]
  },
  {
   "cell_type": "code",
   "execution_count": 31,
   "id": "f08184cc-2ee8-44d0-9ca5-38883ec81fbc",
   "metadata": {},
   "outputs": [
    {
     "name": "stdout",
     "output_type": "stream",
     "text": [
      "education\n",
      "cigsPerDay\n",
      "BPMeds\n",
      "totChol\n",
      "BMI\n",
      "heartRate\n",
      "glucose\n"
     ]
    }
   ],
   "source": [
    "for col in df.columns:\n",
    "    if df[col].isnull().sum()>0:\n",
    "        print(col)"
   ]
  },
  {
   "cell_type": "code",
   "execution_count": 30,
   "id": "8345c649-fe77-4a70-a727-f975e687ec38",
   "metadata": {},
   "outputs": [
    {
     "name": "stdout",
     "output_type": "stream",
     "text": [
      "education 105\n",
      "cigsPerDay 29\n",
      "BPMeds 53\n",
      "totChol 50\n",
      "BMI 19\n",
      "heartRate 1\n",
      "glucose 388\n"
     ]
    }
   ],
   "source": [
    "for col in df.columns:\n",
    "    if df[col].isnull().sum()>0:\n",
    "        print(col, df[col].isnull().sum())"
   ]
  },
  {
   "cell_type": "code",
   "execution_count": 33,
   "id": "812af587-19b1-40c5-b841-71bc23ee4e82",
   "metadata": {},
   "outputs": [
    {
     "data": {
      "text/plain": [
       "0           post grad\n",
       "1       Secondary Edu\n",
       "2         Primary Edu\n",
       "3        Tertiary Edu\n",
       "4        Tertiary Edu\n",
       "            ...      \n",
       "4235    Secondary Edu\n",
       "4236      Primary Edu\n",
       "4237    Secondary Edu\n",
       "4238     Tertiary Edu\n",
       "4239     Tertiary Edu\n",
       "Name: education, Length: 4240, dtype: object"
      ]
     },
     "execution_count": 33,
     "metadata": {},
     "output_type": "execute_result"
    }
   ],
   "source": [
    "df['education']"
   ]
  },
  {
   "cell_type": "code",
   "execution_count": 32,
   "id": "8817e0f2-2452-46e2-99f4-4d7e8230f83b",
   "metadata": {},
   "outputs": [
    {
     "data": {
      "text/plain": [
       "education\n",
       "Primary Edu      1720\n",
       "Secondary Edu    1253\n",
       "Tertiary Edu      689\n",
       "post grad         473\n",
       "Name: count, dtype: int64"
      ]
     },
     "execution_count": 32,
     "metadata": {},
     "output_type": "execute_result"
    }
   ],
   "source": [
    "df['education'].value_counts()"
   ]
  },
  {
   "cell_type": "code",
   "execution_count": 34,
   "id": "14e92653-17af-4711-a867-4b6511516b4c",
   "metadata": {},
   "outputs": [
    {
     "data": {
      "text/plain": [
       "<Axes: xlabel='education'>"
      ]
     },
     "execution_count": 34,
     "metadata": {},
     "output_type": "execute_result"
    },
    {
     "data": {
      "image/png": "[encoded data removed]",
      "text/plain": [
       "<Figure size 640x480 with 1 Axes>"
      ]
     },
     "metadata": {},
     "output_type": "display_data"
    }
   ],
   "source": [
    "df['education'].value_counts().plot(kind ='bar')"
   ]
  },
  {
   "cell_type": "code",
   "execution_count": 43,
   "id": "a90c4929-cf3d-4841-a6b3-56cdcf7e1841",
   "metadata": {},
   "outputs": [
    {
     "data": {
      "text/plain": [
       "0    Primary Edu\n",
       "Name: education, dtype: object"
      ]
     },
     "execution_count": 43,
     "metadata": {},
     "output_type": "execute_result"
    }
   ],
   "source": [
    "df ['education'].mode()"
   ]
  },
  {
   "cell_type": "code",
   "execution_count": 39,
   "id": "dfdf332b-14a3-46cc-8203-f2bfe68bdcc4",
   "metadata": {},
   "outputs": [
    {
     "data": {
      "text/plain": [
       "'Primary Edu'"
      ]
     },
     "execution_count": 39,
     "metadata": {},
     "output_type": "execute_result"
    }
   ],
   "source": [
    "df ['education'].mode()[0]"
   ]
  },
  {
   "cell_type": "markdown",
   "id": "f638bad2-5c44-4018-9515-811d64426e1f",
   "metadata": {},
   "source": [
    "mtd 1 in filling missing value for education"
   ]
  },
  {
   "cell_type": "code",
   "execution_count": 40,
   "id": "4fa500a7-2f2e-49c3-88b8-15680aac807f",
   "metadata": {},
   "outputs": [],
   "source": [
    "df['education'].fillna(df['education'].mode()[0], inplace = True)"
   ]
  },
  {
   "cell_type": "markdown",
   "id": "d5d52c4d-85df-4ad1-8e99-25d53ed52589",
   "metadata": {},
   "source": [
    "mtd 2"
   ]
  },
  {
   "cell_type": "code",
   "execution_count": 42,
   "id": "66e9ada8-ce05-4f0f-8ee7-7af10d95c1be",
   "metadata": {},
   "outputs": [],
   "source": [
    "df['educaion']=df['education'].fillna(df['education'].mode()[0])"
   ]
  },
  {
   "cell_type": "code",
   "execution_count": 52,
   "id": "8130cee1-4913-473b-8b8b-11a5dff0cc21",
   "metadata": {},
   "outputs": [
    {
     "data": {
      "text/plain": [
       "<Axes: ylabel='Frequency'>"
      ]
     },
     "execution_count": 52,
     "metadata": {},
     "output_type": "execute_result"
    },
    {
     "data": {
      "image/png": "[encoded data removed]",
      "text/plain": [
       "<Figure size 640x480 with 1 Axes>"
      ]
     },
     "metadata": {},
     "output_type": "display_data"
    }
   ],
   "source": [
    "df.cigsPerDay.plot(kind = 'hist')"
   ]
  },
  {
   "cell_type": "code",
   "execution_count": 53,
   "id": "fcdc5e16-5add-463f-a3b3-a0ff20b22236",
   "metadata": {},
   "outputs": [
    {
     "data": {
      "text/plain": [
       "<Axes: >"
      ]
     },
     "execution_count": 53,
     "metadata": {},
     "output_type": "execute_result"
    },
    {
     "data": {
      "image/png": "[encoded data removed]",
      "text/plain": [
       "<Figure size 640x480 with 1 Axes>"
      ]
     },
     "metadata": {},
     "output_type": "display_data"
    }
   ],
   "source": [
    "df.cigsPerDay.hist()"
   ]
  },
  {
   "cell_type": "code",
   "execution_count": 50,
   "id": "ea9ab793-4dcf-4b38-b2b1-80e03de4b340",
   "metadata": {},
   "outputs": [
    {
     "data": {
      "text/plain": [
       "<Axes: ylabel='Frequency'>"
      ]
     },
     "execution_count": 50,
     "metadata": {},
     "output_type": "execute_result"
    },
    {
     "data": {
      "image/png": "[encoded data removed]",
      "text/plain": [
       "<Figure size 640x480 with 1 Axes>"
      ]
     },
     "metadata": {},
     "output_type": "display_data"
    }
   ],
   "source": [
    "df['cigsPerDay'].plot(kind = 'hist', grid = True)"
   ]
  },
  {
   "cell_type": "code",
   "execution_count": 54,
   "id": "b9fc9b5e-adde-4de0-8b91-0a261e0ef7f2",
   "metadata": {},
   "outputs": [
    {
     "data": {
      "text/plain": [
       "count    4211.000000\n",
       "mean        9.005937\n",
       "std        11.922462\n",
       "min         0.000000\n",
       "25%         0.000000\n",
       "50%         0.000000\n",
       "75%        20.000000\n",
       "max        70.000000\n",
       "Name: cigsPerDay, dtype: float64"
      ]
     },
     "execution_count": 54,
     "metadata": {},
     "output_type": "execute_result"
    }
   ],
   "source": [
    "df.cigsPerDay.describe()"
   ]
  },
  {
   "cell_type": "code",
   "execution_count": 55,
   "id": "654ae4bc-1fcb-4da6-b7b1-df62d42a4acd",
   "metadata": {},
   "outputs": [
    {
     "data": {
      "text/plain": [
       "0.0"
      ]
     },
     "execution_count": 55,
     "metadata": {},
     "output_type": "execute_result"
    }
   ],
   "source": [
    "df.cigsPerDay.median()"
   ]
  },
  {
   "cell_type": "code",
   "execution_count": 57,
   "id": "cf75230b-9a9b-4fcb-a663-424cbc24091b",
   "metadata": {},
   "outputs": [],
   "source": [
    "df['cigsPerDay'].fillna(df['cigsPerDay'].median(), inplace = True)"
   ]
  },
  {
   "cell_type": "code",
   "execution_count": 60,
   "id": "d10a1b96-582d-4523-98e1-849004412c3b",
   "metadata": {},
   "outputs": [
    {
     "data": {
      "text/plain": [
       "'No'"
      ]
     },
     "execution_count": 60,
     "metadata": {},
     "output_type": "execute_result"
    }
   ],
   "source": [
    "df['BPMeds'].mode()[0]"
   ]
  },
  {
   "cell_type": "code",
   "execution_count": 61,
   "id": "cf9c5b34-95ad-4062-b3bc-74d28e259b45",
   "metadata": {},
   "outputs": [],
   "source": [
    "df['BPMeds'].fillna(df['BPMeds'].mode()[0], inplace = True)"
   ]
  },
  {
   "cell_type": "code",
   "execution_count": 63,
   "id": "134489a3-f016-49b5-a798-40a124a87449",
   "metadata": {},
   "outputs": [
    {
     "data": {
      "text/plain": [
       "count    4190.000000\n",
       "mean      236.699523\n",
       "std        44.591284\n",
       "min       107.000000\n",
       "25%       206.000000\n",
       "50%       234.000000\n",
       "75%       263.000000\n",
       "max       696.000000\n",
       "Name: totChol, dtype: float64"
      ]
     },
     "execution_count": 63,
     "metadata": {},
     "output_type": "execute_result"
    }
   ],
   "source": [
    "df.totChol.describe()"
   ]
  },
  {
   "cell_type": "code",
   "execution_count": 64,
   "id": "13dbc793-fab5-43fa-9d73-aa47e199934b",
   "metadata": {},
   "outputs": [
    {
     "data": {
      "text/plain": [
       "236.69952267303103"
      ]
     },
     "execution_count": 64,
     "metadata": {},
     "output_type": "execute_result"
    }
   ],
   "source": [
    "df.totChol.mean()"
   ]
  },
  {
   "cell_type": "code",
   "execution_count": 65,
   "id": "58150e3d-e18a-4cec-9b07-36bbc378d3c2",
   "metadata": {},
   "outputs": [],
   "source": [
    "df['totChol'].fillna(df['totChol'].median(), inplace = True)"
   ]
  },
  {
   "cell_type": "code",
   "execution_count": 67,
   "id": "29ca53ed-9785-450d-9c35-1535ce569185",
   "metadata": {},
   "outputs": [
    {
     "data": {
      "text/plain": [
       "count    4221.000000\n",
       "mean       25.800801\n",
       "std         4.079840\n",
       "min        15.540000\n",
       "25%        23.070000\n",
       "50%        25.400000\n",
       "75%        28.040000\n",
       "max        56.800000\n",
       "Name: BMI, dtype: float64"
      ]
     },
     "execution_count": 67,
     "metadata": {},
     "output_type": "execute_result"
    }
   ],
   "source": [
    "df.BMI.describe()"
   ]
  },
  {
   "cell_type": "code",
   "execution_count": 68,
   "id": "6b1becb1-324a-44e1-b3de-1f1a7824cfd1",
   "metadata": {},
   "outputs": [],
   "source": [
    "df['BMI'].fillna(df['BMI'].mean(), inplace = True)"
   ]
  },
  {
   "cell_type": "code",
   "execution_count": 70,
   "id": "5505e679-f777-4304-8103-6c43e325997a",
   "metadata": {},
   "outputs": [
    {
     "data": {
      "text/plain": [
       "count    4239.000000\n",
       "mean       75.878981\n",
       "std        12.025348\n",
       "min        44.000000\n",
       "25%        68.000000\n",
       "50%        75.000000\n",
       "75%        83.000000\n",
       "max       143.000000\n",
       "Name: heartRate, dtype: float64"
      ]
     },
     "execution_count": 70,
     "metadata": {},
     "output_type": "execute_result"
    }
   ],
   "source": [
    "df.heartRate.describe()"
   ]
  },
  {
   "cell_type": "code",
   "execution_count": 71,
   "id": "4c4b9cb7-77bd-4b6b-ba60-82edf3b85325",
   "metadata": {},
   "outputs": [],
   "source": [
    "df['heartRate'].fillna(df['heartRate'].mean(), inplace = True)"
   ]
  },
  {
   "cell_type": "code",
   "execution_count": 73,
   "id": "5dcb42dc-5395-483b-a4a0-8ffc73f40f2e",
   "metadata": {},
   "outputs": [
    {
     "data": {
      "text/plain": [
       "count    3852.000000\n",
       "mean       81.963655\n",
       "std        23.954335\n",
       "min        40.000000\n",
       "25%        71.000000\n",
       "50%        78.000000\n",
       "75%        87.000000\n",
       "max       394.000000\n",
       "Name: glucose, dtype: float64"
      ]
     },
     "execution_count": 73,
     "metadata": {},
     "output_type": "execute_result"
    }
   ],
   "source": [
    "df.glucose.describe()"
   ]
  },
  {
   "cell_type": "code",
   "execution_count": 74,
   "id": "a84e1d0a-5e84-4c27-82a3-baa671998478",
   "metadata": {},
   "outputs": [],
   "source": [
    "df['glucose'].fillna(df['glucose'].mean(), inplace = True)"
   ]
  },
  {
   "cell_type": "code",
   "execution_count": 75,
   "id": "c7f33c10-7f47-48e7-a04e-8264e7f53ef7",
   "metadata": {},
   "outputs": [
    {
     "data": {
      "text/html": [
       "<div>\n",
       "<style scoped>\n",
       "    .dataframe tbody tr th:only-of-type {\n",
       "        vertical-align: middle;\n",
       "    }\n",
       "\n",
       "    .dataframe tbody tr th {\n",
       "        vertical-align: top;\n",
       "    }\n",
       "\n",
       "    .dataframe thead th {\n",
       "        text-align: right;\n",
       "    }\n",
       "</style>\n",
       "<table border=\"1\" class=\"dataframe\">\n",
       "  <thead>\n",
       "    <tr style=\"text-align: right;\">\n",
       "      <th></th>\n",
       "      <th>age</th>\n",
       "      <th>cigsPerDay</th>\n",
       "      <th>totChol</th>\n",
       "      <th>sysBP</th>\n",
       "      <th>diaBP</th>\n",
       "      <th>BMI</th>\n",
       "      <th>heartRate</th>\n",
       "      <th>glucose</th>\n",
       "    </tr>\n",
       "  </thead>\n",
       "  <tbody>\n",
       "    <tr>\n",
       "      <th>count</th>\n",
       "      <td>4240.000000</td>\n",
       "      <td>4240.000000</td>\n",
       "      <td>4240.000000</td>\n",
       "      <td>4240.000000</td>\n",
       "      <td>4240.000000</td>\n",
       "      <td>4240.000000</td>\n",
       "      <td>4240.000000</td>\n",
       "      <td>4240.000000</td>\n",
       "    </tr>\n",
       "    <tr>\n",
       "      <th>mean</th>\n",
       "      <td>49.580189</td>\n",
       "      <td>8.944340</td>\n",
       "      <td>236.667689</td>\n",
       "      <td>132.354599</td>\n",
       "      <td>82.897759</td>\n",
       "      <td>25.800801</td>\n",
       "      <td>75.878981</td>\n",
       "      <td>81.963655</td>\n",
       "    </tr>\n",
       "    <tr>\n",
       "      <th>std</th>\n",
       "      <td>8.572942</td>\n",
       "      <td>11.904777</td>\n",
       "      <td>44.328480</td>\n",
       "      <td>22.033300</td>\n",
       "      <td>11.910394</td>\n",
       "      <td>4.070687</td>\n",
       "      <td>12.023929</td>\n",
       "      <td>22.831748</td>\n",
       "    </tr>\n",
       "    <tr>\n",
       "      <th>min</th>\n",
       "      <td>32.000000</td>\n",
       "      <td>0.000000</td>\n",
       "      <td>107.000000</td>\n",
       "      <td>83.500000</td>\n",
       "      <td>48.000000</td>\n",
       "      <td>15.540000</td>\n",
       "      <td>44.000000</td>\n",
       "      <td>40.000000</td>\n",
       "    </tr>\n",
       "    <tr>\n",
       "      <th>25%</th>\n",
       "      <td>42.000000</td>\n",
       "      <td>0.000000</td>\n",
       "      <td>206.000000</td>\n",
       "      <td>117.000000</td>\n",
       "      <td>75.000000</td>\n",
       "      <td>23.077500</td>\n",
       "      <td>68.000000</td>\n",
       "      <td>72.000000</td>\n",
       "    </tr>\n",
       "    <tr>\n",
       "      <th>50%</th>\n",
       "      <td>49.000000</td>\n",
       "      <td>0.000000</td>\n",
       "      <td>234.000000</td>\n",
       "      <td>128.000000</td>\n",
       "      <td>82.000000</td>\n",
       "      <td>25.410000</td>\n",
       "      <td>75.000000</td>\n",
       "      <td>80.000000</td>\n",
       "    </tr>\n",
       "    <tr>\n",
       "      <th>75%</th>\n",
       "      <td>56.000000</td>\n",
       "      <td>20.000000</td>\n",
       "      <td>262.000000</td>\n",
       "      <td>144.000000</td>\n",
       "      <td>90.000000</td>\n",
       "      <td>28.032500</td>\n",
       "      <td>83.000000</td>\n",
       "      <td>85.000000</td>\n",
       "    </tr>\n",
       "    <tr>\n",
       "      <th>max</th>\n",
       "      <td>70.000000</td>\n",
       "      <td>70.000000</td>\n",
       "      <td>696.000000</td>\n",
       "      <td>295.000000</td>\n",
       "      <td>142.500000</td>\n",
       "      <td>56.800000</td>\n",
       "      <td>143.000000</td>\n",
       "      <td>394.000000</td>\n",
       "    </tr>\n",
       "  </tbody>\n",
       "</table>\n",
       "</div>"
      ],
      "text/plain": [
       "               age   cigsPerDay      totChol        sysBP        diaBP  \\\n",
       "count  4240.000000  4240.000000  4240.000000  4240.000000  4240.000000   \n",
       "mean     49.580189     8.944340   236.667689   132.354599    82.897759   \n",
       "std       8.572942    11.904777    44.328480    22.033300    11.910394   \n",
       "min      32.000000     0.000000   107.000000    83.500000    48.000000   \n",
       "25%      42.000000     0.000000   206.000000   117.000000    75.000000   \n",
       "50%      49.000000     0.000000   234.000000   128.000000    82.000000   \n",
       "75%      56.000000    20.000000   262.000000   144.000000    90.000000   \n",
       "max      70.000000    70.000000   696.000000   295.000000   142.500000   \n",
       "\n",
       "               BMI    heartRate      glucose  \n",
       "count  4240.000000  4240.000000  4240.000000  \n",
       "mean     25.800801    75.878981    81.963655  \n",
       "std       4.070687    12.023929    22.831748  \n",
       "min      15.540000    44.000000    40.000000  \n",
       "25%      23.077500    68.000000    72.000000  \n",
       "50%      25.410000    75.000000    80.000000  \n",
       "75%      28.032500    83.000000    85.000000  \n",
       "max      56.800000   143.000000   394.000000  "
      ]
     },
     "execution_count": 75,
     "metadata": {},
     "output_type": "execute_result"
    }
   ],
   "source": [
    "df.describe()"
   ]
  },
  {
   "cell_type": "code",
   "execution_count": 86,
   "id": "199006e1-b11a-4597-8db1-0a5238e55754",
   "metadata": {},
   "outputs": [
    {
     "data": {
      "text/plain": [
       "(4240, 16)"
      ]
     },
     "execution_count": 86,
     "metadata": {},
     "output_type": "execute_result"
    }
   ],
   "source": [
    "df.shape"
   ]
  },
  {
   "cell_type": "code",
   "execution_count": 88,
   "id": "143a2dd4-aeaf-413f-9909-3af9865b7b38",
   "metadata": {},
   "outputs": [
    {
     "data": {
      "text/plain": [
       "pandas.core.frame.DataFrame"
      ]
     },
     "execution_count": 88,
     "metadata": {},
     "output_type": "execute_result"
    }
   ],
   "source": [
    "type(df.describe())"
   ]
  },
  {
   "cell_type": "code",
   "execution_count": 21,
   "id": "b0601f2c-132c-41e7-9662-b76074510fcd",
   "metadata": {},
   "outputs": [
    {
     "ename": "NameError",
     "evalue": "name 'fill_values' is not defined",
     "output_type": "error",
     "traceback": [
      "\u001b[1;31m---------------------------------------------------------------------------\u001b[0m",
      "\u001b[1;31mNameError\u001b[0m                                 Traceback (most recent call last)",
      "Cell \u001b[1;32mIn[21], line 4\u001b[0m\n\u001b[0;32m      1\u001b[0m \u001b[38;5;28;01mdef\u001b[39;00m \u001b[38;5;21mfill_missing_values\u001b[39m(df):\n\u001b[0;32m      2\u001b[0m     fill_values \u001b[38;5;241m=\u001b[39m {\u001b[38;5;124m'\u001b[39m\u001b[38;5;124meducation\u001b[39m\u001b[38;5;124m'\u001b[39m: df[\u001b[38;5;124m'\u001b[39m\u001b[38;5;124meducation\u001b[39m\u001b[38;5;124m'\u001b[39m]\u001b[38;5;241m.\u001b[39mmode()[\u001b[38;5;241m0\u001b[39m], \u001b[38;5;124m'\u001b[39m\u001b[38;5;124mcigsPerDay\u001b[39m\u001b[38;5;124m'\u001b[39m: df[\u001b[38;5;124m'\u001b[39m\u001b[38;5;124mcigsPerDay\u001b[39m\u001b[38;5;124m'\u001b[39m]\u001b[38;5;241m.\u001b[39mmedian(), \u001b[38;5;124m'\u001b[39m\u001b[38;5;124mtotChol\u001b[39m\u001b[38;5;124m'\u001b[39m: df[\u001b[38;5;124m'\u001b[39m\u001b[38;5;124mtotChol\u001b[39m\u001b[38;5;124m'\u001b[39m]\u001b[38;5;241m.\u001b[39mmedian(), \u001b[38;5;124m'\u001b[39m\u001b[38;5;124mBMI\u001b[39m\u001b[38;5;124m'\u001b[39m: df[\u001b[38;5;124m'\u001b[39m\u001b[38;5;124mBMI\u001b[39m\u001b[38;5;124m'\u001b[39m]\u001b[38;5;241m.\u001b[39mmean(), \u001b[38;5;124m'\u001b[39m\u001b[38;5;124mheartRate\u001b[39m\u001b[38;5;124m'\u001b[39m: df[\u001b[38;5;124m'\u001b[39m\u001b[38;5;124mheartRate\u001b[39m\u001b[38;5;124m'\u001b[39m]\u001b[38;5;241m.\u001b[39mmean(), \u001b[38;5;124m'\u001b[39m\u001b[38;5;124mglucose\u001b[39m\u001b[38;5;124m'\u001b[39m: df[\u001b[38;5;124m'\u001b[39m\u001b[38;5;124mglucose\u001b[39m\u001b[38;5;124m'\u001b[39m]\u001b[38;5;241m.\u001b[39mmean()}\n\u001b[1;32m----> 4\u001b[0m \u001b[38;5;28;01mfor\u001b[39;00m column, fill_value \u001b[38;5;129;01min\u001b[39;00m fill_values\u001b[38;5;241m.\u001b[39mitems():\n\u001b[0;32m      5\u001b[0m         \u001b[38;5;28;01mif\u001b[39;00m column \u001b[38;5;129;01min\u001b[39;00m df\u001b[38;5;241m.\u001b[39mcolumns:\n\u001b[0;32m      6\u001b[0m             df[column]\u001b[38;5;241m.\u001b[39mfillna(fill_value, inplace\u001b[38;5;241m=\u001b[39m\u001b[38;5;28;01mTrue\u001b[39;00m)\n",
      "\u001b[1;31mNameError\u001b[0m: name 'fill_values' is not defined"
     ]
    }
   ],
   "source": [
    "\n",
    "\n",
    "def fill_missing_values(df):\n",
    "    fill_values = {'education': df['education'].mode()[0], 'cigsPerDay': df['cigsPerDay'].median(), 'totChol': df['totChol'].median(), 'BMI': df['BMI'].mean(), 'heartRate': df['heartRate'].mean(), 'glucose': df['glucose'].mean()}\n",
    "\n",
    "for column, fill_value in fill_values.items():\n",
    "        if column in df.columns:\n",
    "            df[column].fillna(fill_value, inplace=True)\n",
    "return df\n",
    "\n",
    "df = fill_missing_values(df)\n"
   ]
  },
  {
   "cell_type": "code",
   "execution_count": null,
   "id": "8e741796-c6f9-479c-972b-e5351bcd693e",
   "metadata": {},
   "outputs": [],
   "source": []
  }
 ],
 "metadata": {
  "kernelspec": {
   "display_name": "Python 3 (ipykernel)",
   "language": "python",
   "name": "python3"
  },
  "language_info": {
   "codemirror_mode": {
    "name": "ipython",
    "version": 3
   },
   "file_extension": ".py",
   "mimetype": "text/x-python",
   "name": "python",
   "nbconvert_exporter": "python",
   "pygments_lexer": "ipython3",
   "version": "3.11.7"
  }
 },
 "nbformat": 4,
 "nbformat_minor": 5
}

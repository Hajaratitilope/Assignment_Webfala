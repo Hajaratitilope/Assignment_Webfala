{
 "cells": [
  {
   "cell_type": "code",
   "execution_count": 285,
   "id": "01aeeafb-98bc-4389-9d00-20ff5a3df969",
   "metadata": {},
   "outputs": [],
   "source": [
    "import pandas as pd\n",
    "import seaborn as sns\n",
    "from sklearn.model_selection import train_test_split\n",
    "import matplotlib.pyplot as plt\n",
    "from sklearn.metrics import mean_squared_error\n",
    "from sklearn.tree import DecisionTreeRegressor\n",
    "from sklearn.linear_model import LinearRegression"
   ]
  },
  {
   "cell_type": "code",
   "execution_count": 185,
   "id": "0e8ce9b2-0792-4aa2-9db3-b5d716c15764",
   "metadata": {},
   "outputs": [],
   "source": [
    "df1 = pd.read_csv(r\"C:\\Users\\HP\\Desktop\\PracticeData\\Housing_dataset_train.csv\")"
   ]
  },
  {
   "cell_type": "code",
   "execution_count": 186,
   "id": "3fda6d32-c681-4377-9311-567ae0f49858",
   "metadata": {},
   "outputs": [],
   "source": [
    "df = df1.copy()"
   ]
  },
  {
   "cell_type": "code",
   "execution_count": 187,
   "id": "8183ebe0-4837-4f2f-9edf-664f605b7fa4",
   "metadata": {},
   "outputs": [
    {
     "data": {
      "text/html": [
       "<div>\n",
       "<style scoped>\n",
       "    .dataframe tbody tr th:only-of-type {\n",
       "        vertical-align: middle;\n",
       "    }\n",
       "\n",
       "    .dataframe tbody tr th {\n",
       "        vertical-align: top;\n",
       "    }\n",
       "\n",
       "    .dataframe thead th {\n",
       "        text-align: right;\n",
       "    }\n",
       "</style>\n",
       "<table border=\"1\" class=\"dataframe\">\n",
       "  <thead>\n",
       "    <tr style=\"text-align: right;\">\n",
       "      <th></th>\n",
       "      <th>ID</th>\n",
       "      <th>loc</th>\n",
       "      <th>title</th>\n",
       "      <th>bedroom</th>\n",
       "      <th>bathroom</th>\n",
       "      <th>parking_space</th>\n",
       "      <th>price</th>\n",
       "    </tr>\n",
       "  </thead>\n",
       "  <tbody>\n",
       "    <tr>\n",
       "      <th>0</th>\n",
       "      <td>3583</td>\n",
       "      <td>Katsina</td>\n",
       "      <td>Semi-detached duplex</td>\n",
       "      <td>2.0</td>\n",
       "      <td>2.0</td>\n",
       "      <td>1.0</td>\n",
       "      <td>1149999.565</td>\n",
       "    </tr>\n",
       "    <tr>\n",
       "      <th>1</th>\n",
       "      <td>2748</td>\n",
       "      <td>Ondo</td>\n",
       "      <td>Apartment</td>\n",
       "      <td>NaN</td>\n",
       "      <td>2.0</td>\n",
       "      <td>4.0</td>\n",
       "      <td>1672416.689</td>\n",
       "    </tr>\n",
       "    <tr>\n",
       "      <th>2</th>\n",
       "      <td>9261</td>\n",
       "      <td>Ekiti</td>\n",
       "      <td>NaN</td>\n",
       "      <td>7.0</td>\n",
       "      <td>5.0</td>\n",
       "      <td>NaN</td>\n",
       "      <td>3364799.814</td>\n",
       "    </tr>\n",
       "    <tr>\n",
       "      <th>3</th>\n",
       "      <td>2224</td>\n",
       "      <td>Anambra</td>\n",
       "      <td>Detached duplex</td>\n",
       "      <td>5.0</td>\n",
       "      <td>2.0</td>\n",
       "      <td>4.0</td>\n",
       "      <td>2410306.756</td>\n",
       "    </tr>\n",
       "    <tr>\n",
       "      <th>4</th>\n",
       "      <td>10300</td>\n",
       "      <td>Kogi</td>\n",
       "      <td>Terrace duplex</td>\n",
       "      <td>NaN</td>\n",
       "      <td>5.0</td>\n",
       "      <td>6.0</td>\n",
       "      <td>2600700.898</td>\n",
       "    </tr>\n",
       "  </tbody>\n",
       "</table>\n",
       "</div>"
      ],
      "text/plain": [
       "      ID      loc                 title  bedroom  bathroom  parking_space  \\\n",
       "0   3583  Katsina  Semi-detached duplex      2.0       2.0            1.0   \n",
       "1   2748     Ondo             Apartment      NaN       2.0            4.0   \n",
       "2   9261    Ekiti                   NaN      7.0       5.0            NaN   \n",
       "3   2224  Anambra       Detached duplex      5.0       2.0            4.0   \n",
       "4  10300     Kogi        Terrace duplex      NaN       5.0            6.0   \n",
       "\n",
       "         price  \n",
       "0  1149999.565  \n",
       "1  1672416.689  \n",
       "2  3364799.814  \n",
       "3  2410306.756  \n",
       "4  2600700.898  "
      ]
     },
     "execution_count": 187,
     "metadata": {},
     "output_type": "execute_result"
    }
   ],
   "source": [
    "df.head()"
   ]
  },
  {
   "cell_type": "code",
   "execution_count": 188,
   "id": "c9436bea-9c86-40ea-b70d-f2d1bb8de697",
   "metadata": {},
   "outputs": [],
   "source": [
    "df.rename(columns={'loc': 'locn'}, inplace=True)"
   ]
  },
  {
   "cell_type": "code",
   "execution_count": 189,
   "id": "fa53e1b4-c5ab-4cb4-9f6d-987e23b35dfb",
   "metadata": {},
   "outputs": [
    {
     "data": {
      "text/html": [
       "<div>\n",
       "<style scoped>\n",
       "    .dataframe tbody tr th:only-of-type {\n",
       "        vertical-align: middle;\n",
       "    }\n",
       "\n",
       "    .dataframe tbody tr th {\n",
       "        vertical-align: top;\n",
       "    }\n",
       "\n",
       "    .dataframe thead th {\n",
       "        text-align: right;\n",
       "    }\n",
       "</style>\n",
       "<table border=\"1\" class=\"dataframe\">\n",
       "  <thead>\n",
       "    <tr style=\"text-align: right;\">\n",
       "      <th></th>\n",
       "      <th>ID</th>\n",
       "      <th>locn</th>\n",
       "      <th>title</th>\n",
       "      <th>bedroom</th>\n",
       "      <th>bathroom</th>\n",
       "      <th>parking_space</th>\n",
       "      <th>price</th>\n",
       "    </tr>\n",
       "  </thead>\n",
       "  <tbody>\n",
       "    <tr>\n",
       "      <th>0</th>\n",
       "      <td>3583</td>\n",
       "      <td>Katsina</td>\n",
       "      <td>Semi-detached duplex</td>\n",
       "      <td>2.0</td>\n",
       "      <td>2.0</td>\n",
       "      <td>1.0</td>\n",
       "      <td>1149999.565</td>\n",
       "    </tr>\n",
       "    <tr>\n",
       "      <th>1</th>\n",
       "      <td>2748</td>\n",
       "      <td>Ondo</td>\n",
       "      <td>Apartment</td>\n",
       "      <td>NaN</td>\n",
       "      <td>2.0</td>\n",
       "      <td>4.0</td>\n",
       "      <td>1672416.689</td>\n",
       "    </tr>\n",
       "  </tbody>\n",
       "</table>\n",
       "</div>"
      ],
      "text/plain": [
       "     ID     locn                 title  bedroom  bathroom  parking_space  \\\n",
       "0  3583  Katsina  Semi-detached duplex      2.0       2.0            1.0   \n",
       "1  2748     Ondo             Apartment      NaN       2.0            4.0   \n",
       "\n",
       "         price  \n",
       "0  1149999.565  \n",
       "1  1672416.689  "
      ]
     },
     "execution_count": 189,
     "metadata": {},
     "output_type": "execute_result"
    }
   ],
   "source": [
    "df.head(2)"
   ]
  },
  {
   "cell_type": "code",
   "execution_count": 190,
   "id": "a6e35f8b-5f59-4c4d-b4aa-8ed6974ca372",
   "metadata": {},
   "outputs": [
    {
     "data": {
      "text/plain": [
       "ID                  0\n",
       "locn             1813\n",
       "title            1722\n",
       "bedroom          1799\n",
       "bathroom         1805\n",
       "parking_space    1811\n",
       "price               0\n",
       "dtype: int64"
      ]
     },
     "execution_count": 190,
     "metadata": {},
     "output_type": "execute_result"
    }
   ],
   "source": [
    "df.isnull().sum()"
   ]
  },
  {
   "cell_type": "code",
   "execution_count": 191,
   "id": "2c7bc08c-2a52-452b-b6ea-a13f716c07da",
   "metadata": {},
   "outputs": [
    {
     "data": {
      "text/plain": [
       "(14000, 7)"
      ]
     },
     "execution_count": 191,
     "metadata": {},
     "output_type": "execute_result"
    }
   ],
   "source": [
    "df.shape"
   ]
  },
  {
   "cell_type": "code",
   "execution_count": 192,
   "id": "efb4a898-e146-4f83-a550-608d5efdcfc1",
   "metadata": {},
   "outputs": [],
   "source": [
    "df2 = df.dropna(subset=['bedroom', 'bathroom', 'parking_space'], how='all')\n"
   ]
  },
  {
   "cell_type": "code",
   "execution_count": 193,
   "id": "c5d0f761-2e08-46f5-a49c-5606db074c19",
   "metadata": {},
   "outputs": [
    {
     "data": {
      "text/plain": [
       "ID                  0\n",
       "locn             1813\n",
       "title            1722\n",
       "bedroom          1793\n",
       "bathroom         1799\n",
       "parking_space    1805\n",
       "price               0\n",
       "dtype: int64"
      ]
     },
     "execution_count": 193,
     "metadata": {},
     "output_type": "execute_result"
    }
   ],
   "source": [
    "df2.isnull().sum()"
   ]
  },
  {
   "cell_type": "code",
   "execution_count": 194,
   "id": "2835e4af-0520-4c13-bb1d-344db0739b88",
   "metadata": {},
   "outputs": [
    {
     "data": {
      "text/plain": [
       "(13994, 7)"
      ]
     },
     "execution_count": 194,
     "metadata": {},
     "output_type": "execute_result"
    }
   ],
   "source": [
    "df2.shape"
   ]
  },
  {
   "cell_type": "code",
   "execution_count": 195,
   "id": "1fa476ff-78f3-4b31-8495-e73b94dd45c5",
   "metadata": {},
   "outputs": [
    {
     "data": {
      "text/html": [
       "<div>\n",
       "<style scoped>\n",
       "    .dataframe tbody tr th:only-of-type {\n",
       "        vertical-align: middle;\n",
       "    }\n",
       "\n",
       "    .dataframe tbody tr th {\n",
       "        vertical-align: top;\n",
       "    }\n",
       "\n",
       "    .dataframe thead th {\n",
       "        text-align: right;\n",
       "    }\n",
       "</style>\n",
       "<table border=\"1\" class=\"dataframe\">\n",
       "  <thead>\n",
       "    <tr style=\"text-align: right;\">\n",
       "      <th></th>\n",
       "      <th>ID</th>\n",
       "      <th>locn</th>\n",
       "      <th>title</th>\n",
       "      <th>bedroom</th>\n",
       "      <th>bathroom</th>\n",
       "      <th>parking_space</th>\n",
       "      <th>price</th>\n",
       "    </tr>\n",
       "  </thead>\n",
       "  <tbody>\n",
       "    <tr>\n",
       "      <th>0</th>\n",
       "      <td>3583</td>\n",
       "      <td>Katsina</td>\n",
       "      <td>Semi-detached duplex</td>\n",
       "      <td>2.0</td>\n",
       "      <td>2.0</td>\n",
       "      <td>1.0</td>\n",
       "      <td>1149999.565</td>\n",
       "    </tr>\n",
       "    <tr>\n",
       "      <th>1</th>\n",
       "      <td>2748</td>\n",
       "      <td>Ondo</td>\n",
       "      <td>Apartment</td>\n",
       "      <td>NaN</td>\n",
       "      <td>2.0</td>\n",
       "      <td>4.0</td>\n",
       "      <td>1672416.689</td>\n",
       "    </tr>\n",
       "    <tr>\n",
       "      <th>2</th>\n",
       "      <td>9261</td>\n",
       "      <td>Ekiti</td>\n",
       "      <td>NaN</td>\n",
       "      <td>7.0</td>\n",
       "      <td>5.0</td>\n",
       "      <td>NaN</td>\n",
       "      <td>3364799.814</td>\n",
       "    </tr>\n",
       "    <tr>\n",
       "      <th>3</th>\n",
       "      <td>2224</td>\n",
       "      <td>Anambra</td>\n",
       "      <td>Detached duplex</td>\n",
       "      <td>5.0</td>\n",
       "      <td>2.0</td>\n",
       "      <td>4.0</td>\n",
       "      <td>2410306.756</td>\n",
       "    </tr>\n",
       "    <tr>\n",
       "      <th>4</th>\n",
       "      <td>10300</td>\n",
       "      <td>Kogi</td>\n",
       "      <td>Terrace duplex</td>\n",
       "      <td>NaN</td>\n",
       "      <td>5.0</td>\n",
       "      <td>6.0</td>\n",
       "      <td>2600700.898</td>\n",
       "    </tr>\n",
       "  </tbody>\n",
       "</table>\n",
       "</div>"
      ],
      "text/plain": [
       "      ID     locn                 title  bedroom  bathroom  parking_space  \\\n",
       "0   3583  Katsina  Semi-detached duplex      2.0       2.0            1.0   \n",
       "1   2748     Ondo             Apartment      NaN       2.0            4.0   \n",
       "2   9261    Ekiti                   NaN      7.0       5.0            NaN   \n",
       "3   2224  Anambra       Detached duplex      5.0       2.0            4.0   \n",
       "4  10300     Kogi        Terrace duplex      NaN       5.0            6.0   \n",
       "\n",
       "         price  \n",
       "0  1149999.565  \n",
       "1  1672416.689  \n",
       "2  3364799.814  \n",
       "3  2410306.756  \n",
       "4  2600700.898  "
      ]
     },
     "execution_count": 195,
     "metadata": {},
     "output_type": "execute_result"
    }
   ],
   "source": [
    "df2.head()"
   ]
  },
  {
   "cell_type": "code",
   "execution_count": 196,
   "id": "1773d270-b549-436a-9f59-be411da39e7f",
   "metadata": {},
   "outputs": [],
   "source": [
    "summary = df2.groupby('title').agg({\n",
    "    'bedroom': 'count',\n",
    "    'bathroom': 'count',\n",
    "    'parking_space': 'count'\n",
    "}).reset_index()"
   ]
  },
  {
   "cell_type": "code",
   "execution_count": 197,
   "id": "c755dfd2-beff-4416-b0c2-c72794a506f1",
   "metadata": {},
   "outputs": [
    {
     "data": {
      "text/html": [
       "<div>\n",
       "<style scoped>\n",
       "    .dataframe tbody tr th:only-of-type {\n",
       "        vertical-align: middle;\n",
       "    }\n",
       "\n",
       "    .dataframe tbody tr th {\n",
       "        vertical-align: top;\n",
       "    }\n",
       "\n",
       "    .dataframe thead th {\n",
       "        text-align: right;\n",
       "    }\n",
       "</style>\n",
       "<table border=\"1\" class=\"dataframe\">\n",
       "  <thead>\n",
       "    <tr style=\"text-align: right;\">\n",
       "      <th></th>\n",
       "      <th>title</th>\n",
       "      <th>bedroom</th>\n",
       "      <th>bathroom</th>\n",
       "      <th>parking_space</th>\n",
       "    </tr>\n",
       "  </thead>\n",
       "  <tbody>\n",
       "    <tr>\n",
       "      <th>0</th>\n",
       "      <td>Apartment</td>\n",
       "      <td>1133</td>\n",
       "      <td>1156</td>\n",
       "      <td>1134</td>\n",
       "    </tr>\n",
       "    <tr>\n",
       "      <th>1</th>\n",
       "      <td>Bungalow</td>\n",
       "      <td>1122</td>\n",
       "      <td>1087</td>\n",
       "      <td>1111</td>\n",
       "    </tr>\n",
       "    <tr>\n",
       "      <th>2</th>\n",
       "      <td>Cottage</td>\n",
       "      <td>381</td>\n",
       "      <td>386</td>\n",
       "      <td>398</td>\n",
       "    </tr>\n",
       "    <tr>\n",
       "      <th>3</th>\n",
       "      <td>Detached duplex</td>\n",
       "      <td>1153</td>\n",
       "      <td>1128</td>\n",
       "      <td>1126</td>\n",
       "    </tr>\n",
       "    <tr>\n",
       "      <th>4</th>\n",
       "      <td>Flat</td>\n",
       "      <td>1193</td>\n",
       "      <td>1179</td>\n",
       "      <td>1181</td>\n",
       "    </tr>\n",
       "    <tr>\n",
       "      <th>5</th>\n",
       "      <td>Mansion</td>\n",
       "      <td>1120</td>\n",
       "      <td>1132</td>\n",
       "      <td>1138</td>\n",
       "    </tr>\n",
       "    <tr>\n",
       "      <th>6</th>\n",
       "      <td>Penthouse</td>\n",
       "      <td>1140</td>\n",
       "      <td>1125</td>\n",
       "      <td>1128</td>\n",
       "    </tr>\n",
       "    <tr>\n",
       "      <th>7</th>\n",
       "      <td>Semi-detached duplex</td>\n",
       "      <td>1087</td>\n",
       "      <td>1109</td>\n",
       "      <td>1099</td>\n",
       "    </tr>\n",
       "    <tr>\n",
       "      <th>8</th>\n",
       "      <td>Terrace duplex</td>\n",
       "      <td>1095</td>\n",
       "      <td>1097</td>\n",
       "      <td>1070</td>\n",
       "    </tr>\n",
       "    <tr>\n",
       "      <th>9</th>\n",
       "      <td>Townhouse</td>\n",
       "      <td>1128</td>\n",
       "      <td>1140</td>\n",
       "      <td>1157</td>\n",
       "    </tr>\n",
       "  </tbody>\n",
       "</table>\n",
       "</div>"
      ],
      "text/plain": [
       "                  title  bedroom  bathroom  parking_space\n",
       "0             Apartment     1133      1156           1134\n",
       "1              Bungalow     1122      1087           1111\n",
       "2               Cottage      381       386            398\n",
       "3       Detached duplex     1153      1128           1126\n",
       "4                  Flat     1193      1179           1181\n",
       "5               Mansion     1120      1132           1138\n",
       "6             Penthouse     1140      1125           1128\n",
       "7  Semi-detached duplex     1087      1109           1099\n",
       "8        Terrace duplex     1095      1097           1070\n",
       "9             Townhouse     1128      1140           1157"
      ]
     },
     "execution_count": 197,
     "metadata": {},
     "output_type": "execute_result"
    }
   ],
   "source": [
    "summary"
   ]
  },
  {
   "cell_type": "code",
   "execution_count": 198,
   "id": "57966a82-5cef-40bb-b1c5-66bdb5b83ba1",
   "metadata": {},
   "outputs": [
    {
     "data": {
      "text/plain": [
       "<Axes: xlabel='bedroom', ylabel='title'>"
      ]
     },
     "execution_count": 198,
     "metadata": {},
     "output_type": "execute_result"
    },
    {
     "data": {
      "image/png": "[encoded data removed]",
      "text/plain": [
       "<Figure size 640x480 with 1 Axes>"
      ]
     },
     "metadata": {},
     "output_type": "display_data"
    }
   ],
   "source": [
    "sns.scatterplot(data=df2, y='title', x='bedroom', color='blue')"
   ]
  },
  {
   "cell_type": "code",
   "execution_count": 199,
   "id": "26dc630d-649e-4607-bc01-80b80ffa1c3d",
   "metadata": {},
   "outputs": [
    {
     "data": {
      "text/plain": [
       "<Axes: xlabel='bathroom', ylabel='title'>"
      ]
     },
     "execution_count": 199,
     "metadata": {},
     "output_type": "execute_result"
    },
    {
     "data": {
      "image/png": "[encoded data removed]",
      "text/plain": [
       "<Figure size 640x480 with 1 Axes>"
      ]
     },
     "metadata": {},
     "output_type": "display_data"
    }
   ],
   "source": [
    "sns.scatterplot(data=df2, y='title', x='bathroom', color='blue')"
   ]
  },
  {
   "cell_type": "code",
   "execution_count": 200,
   "id": "154bccb5-af4d-4210-b85a-5866b09ca8b7",
   "metadata": {},
   "outputs": [
    {
     "data": {
      "text/plain": [
       "<Axes: xlabel='parking_space', ylabel='title'>"
      ]
     },
     "execution_count": 200,
     "metadata": {},
     "output_type": "execute_result"
    },
    {
     "data": {
      "image/png": "[encoded data removed]",
      "text/plain": [
       "<Figure size 640x480 with 1 Axes>"
      ]
     },
     "metadata": {},
     "output_type": "display_data"
    }
   ],
   "source": [
    "sns.scatterplot(data=df2, y='title', x='parking_space', color='blue')"
   ]
  },
  {
   "cell_type": "code",
   "execution_count": 201,
   "id": "313e3c9c-c488-46de-8ab6-3acc2943bcde",
   "metadata": {},
   "outputs": [
    {
     "data": {
      "text/plain": [
       "count     12272\n",
       "unique       10\n",
       "top        Flat\n",
       "freq       1371\n",
       "Name: title, dtype: object"
      ]
     },
     "execution_count": 201,
     "metadata": {},
     "output_type": "execute_result"
    }
   ],
   "source": [
    "df2.title.describe()"
   ]
  },
  {
   "cell_type": "code",
   "execution_count": 202,
   "id": "592e4fc6-c729-4ff5-b905-8ff53da5afb9",
   "metadata": {},
   "outputs": [],
   "source": [
    "condition = ((df2['bedroom'] <= 5) & (df2['parking_space'] <= 4) & (df2['bathroom'] <= 2))\n",
    "\n",
    "df2.loc[condition & df2['title'].isnull(), 'title'] = 'Cottage'"
   ]
  },
  {
   "cell_type": "code",
   "execution_count": 203,
   "id": "d8a2d337-9424-4654-ae3f-4b52b0ddd4ff",
   "metadata": {},
   "outputs": [
    {
     "data": {
      "text/plain": [
       "ID                  0\n",
       "locn             1813\n",
       "title            1090\n",
       "bedroom          1793\n",
       "bathroom         1799\n",
       "parking_space    1805\n",
       "price               0\n",
       "dtype: int64"
      ]
     },
     "execution_count": 203,
     "metadata": {},
     "output_type": "execute_result"
    }
   ],
   "source": [
    "df2.isnull().sum()"
   ]
  },
  {
   "cell_type": "code",
   "execution_count": 220,
   "id": "40c1e2ce-2adb-489c-be66-c24cdb930d5e",
   "metadata": {},
   "outputs": [
    {
     "name": "stderr",
     "output_type": "stream",
     "text": [
      "C:\\Users\\HP\\AppData\\Local\\Temp\\ipykernel_5844\\1004919099.py:1: SettingWithCopyWarning: \n",
      "A value is trying to be set on a copy of a slice from a DataFrame\n",
      "\n",
      "See the caveats in the documentation: https://pandas.pydata.org/pandas-docs/stable/user_guide/indexing.html#returning-a-view-versus-a-copy\n",
      "  locn_fill = df2.locn.fillna('Nigeria', inplace = True)\n"
     ]
    }
   ],
   "source": [
    "locn_fill = df2.locn.fillna('Nigeria', inplace = True)"
   ]
  },
  {
   "cell_type": "code",
   "execution_count": 205,
   "id": "cf7f07a8-94c6-47f4-8d9b-03cf56ed5274",
   "metadata": {},
   "outputs": [
    {
     "data": {
      "text/plain": [
       "0    4.0\n",
       "Name: parking_space, dtype: float64"
      ]
     },
     "execution_count": 205,
     "metadata": {},
     "output_type": "execute_result"
    }
   ],
   "source": [
    "df2.parking_space.mode()"
   ]
  },
  {
   "cell_type": "code",
   "execution_count": 206,
   "id": "17c9db77-6eeb-43ac-a25a-66d449466891",
   "metadata": {},
   "outputs": [],
   "source": [
    "bedroom_distribution = df2.groupby('title')['bedroom'].value_counts().unstack(fill_value=0)\n",
    "most_common_bedrooms = df2.groupby('title')['bedroom'].agg(lambda x: x.mode().iloc[0] if not x.mode().empty else None)\n",
    "#df2['bedroom'] = df.apply(lambda row: most_common_bedrooms[row['title']] if pd.isna(row['bedroom']) else row['bedroom'], axis=1)"
   ]
  },
  {
   "cell_type": "code",
   "execution_count": 207,
   "id": "8b13186f-4ad2-44ee-ae2c-1434a4bc08ed",
   "metadata": {},
   "outputs": [
    {
     "data": {
      "text/plain": [
       "title\n",
       "Apartment               1.0\n",
       "Bungalow                2.0\n",
       "Cottage                 2.0\n",
       "Detached duplex         5.0\n",
       "Flat                    1.0\n",
       "Mansion                 3.0\n",
       "Penthouse               2.0\n",
       "Semi-detached duplex    5.0\n",
       "Terrace duplex          1.0\n",
       "Townhouse               1.0\n",
       "Name: bedroom, dtype: float64"
      ]
     },
     "execution_count": 207,
     "metadata": {},
     "output_type": "execute_result"
    }
   ],
   "source": [
    "most_common_bedrooms"
   ]
  },
  {
   "cell_type": "code",
   "execution_count": 208,
   "id": "6b44b9d0-732d-4078-b0de-03a37ca21711",
   "metadata": {},
   "outputs": [],
   "source": [
    "df2.loc[(df2['title'] == 'Apartment') & (df2['bedroom'].isna()), 'bedroom'] = 1\n",
    "df2.loc[(df2['title'] == 'Bungalow') & (df2['bedroom'].isna()), 'bedroom'] = 2\n",
    "df2.loc[(df2['title'] == 'Cottage') & (df2['bedroom'].isna()), 'bedroom'] = 2\n",
    "df2.loc[(df2['title'] == 'Detached duplex') & (df2['bedroom'].isna()), 'bedroom'] = 5\n",
    "df2.loc[(df2['title'] == 'Flat') & (df2['bedroom'].isna()), 'bedroom'] = 1\n",
    "df2.loc[(df2['title'] == 'Mansion') & (df2['bedroom'].isna()), 'bedroom'] = 3\n",
    "df2.loc[(df2['title'] == 'Penthouse') & (df2['bedroom'].isna()), 'bedroom'] = 2\n",
    "df2.loc[(df2['title'] == 'Semi-detached duplex') & (df2['bedroom'].isna()), 'bedroom'] = 5\n",
    "df2.loc[(df2['title'] == 'Terrace duplex') & (df2['bedroom'].isna()), 'bedroom'] = 1\n",
    "df2.loc[(df2['title'] == 'Townhouse') & (df2['bedroom'].isna()), 'bedroom'] = 1"
   ]
  },
  {
   "cell_type": "code",
   "execution_count": 209,
   "id": "6463ab6c-0614-4225-b169-b32e21831236",
   "metadata": {},
   "outputs": [
    {
     "data": {
      "text/plain": [
       "73"
      ]
     },
     "execution_count": 209,
     "metadata": {},
     "output_type": "execute_result"
    }
   ],
   "source": [
    "df2.bedroom.isnull().sum()"
   ]
  },
  {
   "cell_type": "code",
   "execution_count": 210,
   "id": "aac6abe6-8bdc-4a8f-8b3d-d67fb8c0032e",
   "metadata": {},
   "outputs": [],
   "source": [
    "bathroom_distribution = df2.groupby('title')['bathroom'].value_counts().unstack(fill_value=0)\n",
    "most_common_bathrooms = df2.groupby('title')['bathroom'].agg(lambda x: x.mode().iloc[0] if not x.mode().empty else None)\n",
    "#df2['bedroom'] = df.apply(lambda row: most_common_bedrooms[row['title']"
   ]
  },
  {
   "cell_type": "code",
   "execution_count": 211,
   "id": "953816ac-44c4-45d8-a2d8-eaec70cc4703",
   "metadata": {},
   "outputs": [
    {
     "data": {
      "text/plain": [
       "title\n",
       "Apartment               1.0\n",
       "Bungalow                1.0\n",
       "Cottage                 2.0\n",
       "Detached duplex         2.0\n",
       "Flat                    2.0\n",
       "Mansion                 1.0\n",
       "Penthouse               2.0\n",
       "Semi-detached duplex    2.0\n",
       "Terrace duplex          1.0\n",
       "Townhouse               1.0\n",
       "Name: bathroom, dtype: float64"
      ]
     },
     "execution_count": 211,
     "metadata": {},
     "output_type": "execute_result"
    }
   ],
   "source": [
    "most_common_bathrooms"
   ]
  },
  {
   "cell_type": "code",
   "execution_count": 212,
   "id": "dc1beebf-b7af-488f-931a-ca82bde40d69",
   "metadata": {},
   "outputs": [],
   "source": [
    "df2.loc[(df2['title'] == 'Apartment') & (df2['bathroom'].isna()), 'bathroom'] = 1\n",
    "df2.loc[(df2['title'] == 'Bungalow') & (df2['bathroom'].isna()), 'bathroom'] = 1\n",
    "df2.loc[(df2['title'] == 'Cottage') & (df2['bathroom'].isna()), 'bathroom'] = 2\n",
    "df2.loc[(df2['title'] == 'Detached duplex') & (df2['bathroom'].isna()), 'bathroom'] = 2\n",
    "df2.loc[(df2['title'] == 'Flat') & (df2['bathroom'].isna()), 'bathroom'] = 2\n",
    "df2.loc[(df2['title'] == 'Mansion') & (df2['bathroom'].isna()), 'bathroom'] = 1\n",
    "df2.loc[(df2['title'] == 'Penthouse') & (df2['bathroom'].isna()), 'bathroom'] = 2\n",
    "df2.loc[(df2['title'] == 'Semi-detached duplex') & (df2['bathroom'].isna()), 'bathroom'] = 2\n",
    "df2.loc[(df2['title'] == 'Terrace duplex') & (df2['bathroom'].isna()), 'bathroom'] = 1\n",
    "df2.loc[(df2['title'] == 'Townhouse') & (df2['bathroom'].isna()), 'bathroom'] = 1"
   ]
  },
  {
   "cell_type": "code",
   "execution_count": 213,
   "id": "2a266f81-ed66-4ec2-8342-e9eb8443a550",
   "metadata": {},
   "outputs": [
    {
     "data": {
      "text/plain": [
       "66"
      ]
     },
     "execution_count": 213,
     "metadata": {},
     "output_type": "execute_result"
    }
   ],
   "source": [
    "df2.bathroom.isnull().sum()"
   ]
  },
  {
   "cell_type": "code",
   "execution_count": 214,
   "id": "8b482e2f-01ae-4abb-b5a9-cda26ed760fc",
   "metadata": {},
   "outputs": [],
   "source": [
    "parking_space_distribution = df2.groupby('title')['parking_space'].value_counts().unstack(fill_value=0)\n",
    "most_common_parking_space = df2.groupby('title')['parking_space'].agg(lambda x: x.mode().iloc[0] if not x.mode().empty else None)\n",
    "#df2['bedroom'] = df.apply(lambda row: most_common_bedrooms[row['title']"
   ]
  },
  {
   "cell_type": "code",
   "execution_count": 215,
   "id": "06872326-1133-4df7-a337-2d7a5fcb7d73",
   "metadata": {},
   "outputs": [
    {
     "data": {
      "text/plain": [
       "title\n",
       "Apartment               4.0\n",
       "Bungalow                2.0\n",
       "Cottage                 4.0\n",
       "Detached duplex         2.0\n",
       "Flat                    3.0\n",
       "Mansion                 2.0\n",
       "Penthouse               4.0\n",
       "Semi-detached duplex    3.0\n",
       "Terrace duplex          2.0\n",
       "Townhouse               3.0\n",
       "Name: parking_space, dtype: float64"
      ]
     },
     "execution_count": 215,
     "metadata": {},
     "output_type": "execute_result"
    }
   ],
   "source": [
    "most_common_parking_space"
   ]
  },
  {
   "cell_type": "code",
   "execution_count": 216,
   "id": "3961301f-34ef-4c35-bd98-a50eaf709b23",
   "metadata": {},
   "outputs": [],
   "source": [
    "df2.loc[(df2['title'] == 'Apartment') & (df2['parking_space'].isna()), 'parking_space'] = 4\n",
    "df2.loc[(df2['title'] == 'Bungalow') & (df2['parking_space'].isna()), 'parking_space'] = 2\n",
    "df2.loc[(df2['title'] == 'Cottage') & (df2['parking_space'].isna()), 'parking_space'] = 4\n",
    "df2.loc[(df2['title'] == 'Detached duplex') & (df2['parking_space'].isna()), 'parking_space'] = 2\n",
    "df2.loc[(df2['title'] == 'Flat') & (df2['parking_space'].isna()), 'parking_space'] = 3\n",
    "df2.loc[(df2['title'] == 'Mansion') & (df2['parking_space'].isna()), 'parking_space'] = 2\n",
    "df2.loc[(df2['title'] == 'Penthouse') & (df2['parking_space'].isna()), 'parking_space'] = 4\n",
    "df2.loc[(df2['title'] == 'Semi-detached duplex') & (df2['parking_space'].isna()), 'parking_space'] = 3\n",
    "df2.loc[(df2['title'] == 'Terrace duplex') & (df2['parking_space'].isna()), 'parking_space'] = 2\n",
    "df2.loc[(df2['title'] == 'Townhouse') & (df2['parking_space'].isna()), 'parking_space'] = 3"
   ]
  },
  {
   "cell_type": "code",
   "execution_count": 217,
   "id": "5495032f-9168-43ad-8807-77b0950f6a29",
   "metadata": {},
   "outputs": [
    {
     "data": {
      "text/plain": [
       "ID                  0\n",
       "locn             1813\n",
       "title            1090\n",
       "bedroom            73\n",
       "bathroom           66\n",
       "parking_space      75\n",
       "price               0\n",
       "dtype: int64"
      ]
     },
     "execution_count": 217,
     "metadata": {},
     "output_type": "execute_result"
    }
   ],
   "source": [
    "df2.isnull().sum()"
   ]
  },
  {
   "cell_type": "code",
   "execution_count": 218,
   "id": "9c92458f-a644-4bf3-9ac4-219cbd69a694",
   "metadata": {},
   "outputs": [],
   "source": [
    "df2.loc[(df['title'].isna()) & (df['bedroom'] == 1) & (df['bathroom'] == 1) & (df['parking_space'] == 4), 'title'] = 'Apartment'\n",
    "df2.loc[(df['title'].isna()) & (df['bedroom'] == 2) & (df['bathroom'] == 1) & (df['parking_space'] == 2), 'title'] = 'Bungalow'\n",
    "df2.loc[(df['title'].isna()) & (df['bedroom'] == 2) & (df['bathroom'] == 2) & (df['parking_space'] == 4), 'title'] = 'Cottage'\n",
    "df2.loc[(df['title'].isna()) & (df['bedroom'] == 5) & (df['bathroom'] == 2) & (df['parking_space'] == 2), 'title'] = 'Detached duplex'\n",
    "df2.loc[(df['title'].isna()) & (df['bedroom'] == 1) & (df['bathroom'] == 2) & (df['parking_space'] == 3), 'title'] = 'Flat'\n",
    "df2.loc[(df['title'].isna()) & (df['bedroom'] == 3) & (df['bathroom'] == 1) & (df['parking_space'] == 2), 'title'] = 'Mansion'\n",
    "df2.loc[(df['title'].isna()) & (df['bedroom'] == 2) & (df['bathroom'] == 2) & (df['parking_space'] == 4), 'title'] = 'Penthouse'\n",
    "df2.loc[(df['title'].isna()) & (df['bedroom'] == 5) & (df['bathroom'] == 2) & (df['parking_space'] == 3), 'title'] = 'Semi-detached duplex'\n",
    "df2.loc[(df['title'].isna()) & (df['bedroom'] == 1) & (df['bathroom'] == 1) & (df['parking_space'] == 2), 'title'] = 'Terrace duplex'\n",
    "df2.loc[(df['title'].isna()) & (df['bedroom'] == 1) & (df['bathroom'] == 1) & (df['parking_space'] == 3), 'title'] = 'Townhouse'"
   ]
  },
  {
   "cell_type": "code",
   "execution_count": 219,
   "id": "8fcfcd95-0235-4902-8ce3-e05905f632a0",
   "metadata": {},
   "outputs": [
    {
     "data": {
      "text/plain": [
       "ID                  0\n",
       "locn             1813\n",
       "title            1090\n",
       "bedroom            73\n",
       "bathroom           66\n",
       "parking_space      75\n",
       "price               0\n",
       "dtype: int64"
      ]
     },
     "execution_count": 219,
     "metadata": {},
     "output_type": "execute_result"
    }
   ],
   "source": [
    "df2.isnull().sum()"
   ]
  },
  {
   "cell_type": "code",
   "execution_count": 222,
   "id": "f69af8ac-ed5e-4181-b357-dff68f17ba2e",
   "metadata": {},
   "outputs": [
    {
     "name": "stderr",
     "output_type": "stream",
     "text": [
      "C:\\Users\\HP\\AppData\\Local\\Temp\\ipykernel_5844\\350965458.py:1: SettingWithCopyWarning: \n",
      "A value is trying to be set on a copy of a slice from a DataFrame\n",
      "\n",
      "See the caveats in the documentation: https://pandas.pydata.org/pandas-docs/stable/user_guide/indexing.html#returning-a-view-versus-a-copy\n",
      "  Title_fill = df2.title.fillna('unamed_houses', inplace = True)\n"
     ]
    }
   ],
   "source": [
    "Title_fill = df2.title.fillna('unamed_houses', inplace = True)"
   ]
  },
  {
   "cell_type": "code",
   "execution_count": 223,
   "id": "f4104298-b91f-4002-8449-21b66ac04536",
   "metadata": {},
   "outputs": [
    {
     "data": {
      "text/plain": [
       "ID                0\n",
       "locn              0\n",
       "title             0\n",
       "bedroom          73\n",
       "bathroom         66\n",
       "parking_space    75\n",
       "price             0\n",
       "dtype: int64"
      ]
     },
     "execution_count": 223,
     "metadata": {},
     "output_type": "execute_result"
    }
   ],
   "source": [
    "df2.isnull().sum()"
   ]
  },
  {
   "cell_type": "code",
   "execution_count": 245,
   "id": "fec06c23-0537-4e4e-878b-dd77dea1caa4",
   "metadata": {},
   "outputs": [
    {
     "data": {
      "text/html": [
       "<div>\n",
       "<style scoped>\n",
       "    .dataframe tbody tr th:only-of-type {\n",
       "        vertical-align: middle;\n",
       "    }\n",
       "\n",
       "    .dataframe tbody tr th {\n",
       "        vertical-align: top;\n",
       "    }\n",
       "\n",
       "    .dataframe thead th {\n",
       "        text-align: right;\n",
       "    }\n",
       "</style>\n",
       "<table border=\"1\" class=\"dataframe\">\n",
       "  <thead>\n",
       "    <tr style=\"text-align: right;\">\n",
       "      <th></th>\n",
       "      <th>ID</th>\n",
       "      <th>bedroom</th>\n",
       "      <th>bathroom</th>\n",
       "      <th>parking_space</th>\n",
       "      <th>price</th>\n",
       "    </tr>\n",
       "  </thead>\n",
       "  <tbody>\n",
       "    <tr>\n",
       "      <th>count</th>\n",
       "      <td>13994.000000</td>\n",
       "      <td>13921.000000</td>\n",
       "      <td>13928.000000</td>\n",
       "      <td>13919.000000</td>\n",
       "      <td>1.399400e+04</td>\n",
       "    </tr>\n",
       "    <tr>\n",
       "      <th>mean</th>\n",
       "      <td>4862.006789</td>\n",
       "      <td>4.063789</td>\n",
       "      <td>2.926766</td>\n",
       "      <td>3.125656</td>\n",
       "      <td>2.138243e+06</td>\n",
       "    </tr>\n",
       "    <tr>\n",
       "      <th>std</th>\n",
       "      <td>3818.313776</td>\n",
       "      <td>2.437279</td>\n",
       "      <td>1.990775</td>\n",
       "      <td>1.527664</td>\n",
       "      <td>1.083180e+06</td>\n",
       "    </tr>\n",
       "    <tr>\n",
       "      <th>min</th>\n",
       "      <td>0.000000</td>\n",
       "      <td>1.000000</td>\n",
       "      <td>1.000000</td>\n",
       "      <td>1.000000</td>\n",
       "      <td>4.319673e+05</td>\n",
       "    </tr>\n",
       "    <tr>\n",
       "      <th>25%</th>\n",
       "      <td>1672.000000</td>\n",
       "      <td>2.000000</td>\n",
       "      <td>1.000000</td>\n",
       "      <td>2.000000</td>\n",
       "      <td>1.394078e+06</td>\n",
       "    </tr>\n",
       "    <tr>\n",
       "      <th>50%</th>\n",
       "      <td>3525.000000</td>\n",
       "      <td>4.000000</td>\n",
       "      <td>2.000000</td>\n",
       "      <td>3.000000</td>\n",
       "      <td>1.895448e+06</td>\n",
       "    </tr>\n",
       "    <tr>\n",
       "      <th>75%</th>\n",
       "      <td>8009.500000</td>\n",
       "      <td>6.000000</td>\n",
       "      <td>4.000000</td>\n",
       "      <td>4.000000</td>\n",
       "      <td>2.587156e+06</td>\n",
       "    </tr>\n",
       "    <tr>\n",
       "      <th>max</th>\n",
       "      <td>12999.000000</td>\n",
       "      <td>9.000000</td>\n",
       "      <td>7.000000</td>\n",
       "      <td>6.000000</td>\n",
       "      <td>1.656849e+07</td>\n",
       "    </tr>\n",
       "  </tbody>\n",
       "</table>\n",
       "</div>"
      ],
      "text/plain": [
       "                 ID       bedroom      bathroom  parking_space         price\n",
       "count  13994.000000  13921.000000  13928.000000   13919.000000  1.399400e+04\n",
       "mean    4862.006789      4.063789      2.926766       3.125656  2.138243e+06\n",
       "std     3818.313776      2.437279      1.990775       1.527664  1.083180e+06\n",
       "min        0.000000      1.000000      1.000000       1.000000  4.319673e+05\n",
       "25%     1672.000000      2.000000      1.000000       2.000000  1.394078e+06\n",
       "50%     3525.000000      4.000000      2.000000       3.000000  1.895448e+06\n",
       "75%     8009.500000      6.000000      4.000000       4.000000  2.587156e+06\n",
       "max    12999.000000      9.000000      7.000000       6.000000  1.656849e+07"
      ]
     },
     "execution_count": 245,
     "metadata": {},
     "output_type": "execute_result"
    }
   ],
   "source": [
    "df2.describe()"
   ]
  },
  {
   "cell_type": "code",
   "execution_count": 225,
   "id": "8be8f0ef-1f6a-40d3-8458-69520f0711e6",
   "metadata": {},
   "outputs": [],
   "source": [
    "df2.to_csv('cleaned_housing_data.csv', index=False)"
   ]
  },
  {
   "cell_type": "code",
   "execution_count": 229,
   "id": "31512f02-4701-4b70-889e-30f6d284c920",
   "metadata": {},
   "outputs": [],
   "source": [
    "cldf1 = pd.read_csv(r\"C:\\Users\\HP\\Desktop\\Webfala\\cleaned_housing_data.csv\")"
   ]
  },
  {
   "cell_type": "code",
   "execution_count": 230,
   "id": "7074339c-76da-4ff7-9b0c-e9fa7190445a",
   "metadata": {},
   "outputs": [],
   "source": [
    "cldf = cldf1.copy()"
   ]
  },
  {
   "cell_type": "code",
   "execution_count": 246,
   "id": "dff05612-7b63-4270-b8ea-92587c7c1e93",
   "metadata": {},
   "outputs": [],
   "source": [
    "bed_fill_value = cldf.bedroom.mean()"
   ]
  },
  {
   "cell_type": "code",
   "execution_count": 252,
   "id": "468e309e-eb9b-4074-bbe4-d0a823a4e2ba",
   "metadata": {},
   "outputs": [],
   "source": [
    "bath_fill_value = cldf.bathroom.mean()"
   ]
  },
  {
   "cell_type": "code",
   "execution_count": 256,
   "id": "e88a26ea-f435-4931-a613-17dc5872b2f9",
   "metadata": {},
   "outputs": [],
   "source": [
    "park_fill_value = cldf.parking_space.mean()"
   ]
  },
  {
   "cell_type": "code",
   "execution_count": 250,
   "id": "7c51c746-35a9-4519-a768-d4cdfe969b99",
   "metadata": {},
   "outputs": [],
   "source": [
    "bedroom_fill = cldf.bedroom.fillna(bed_fill_value, inplace = True)"
   ]
  },
  {
   "cell_type": "code",
   "execution_count": 258,
   "id": "a04b28cd-6d07-403b-a942-8bc60c939fb9",
   "metadata": {},
   "outputs": [
    {
     "data": {
      "text/plain": [
       "ID               0\n",
       "locn             0\n",
       "title            0\n",
       "bedroom          0\n",
       "bathroom         0\n",
       "parking_space    0\n",
       "price            0\n",
       "dtype: int64"
      ]
     },
     "execution_count": 258,
     "metadata": {},
     "output_type": "execute_result"
    }
   ],
   "source": [
    "cldf.isnull().sum()"
   ]
  },
  {
   "cell_type": "code",
   "execution_count": 255,
   "id": "13e86ffb-297a-4b5d-b00e-c040e249a763",
   "metadata": {},
   "outputs": [],
   "source": [
    "bathroom_fill = cldf.bathroom.fillna(bath_fill_value, inplace = True)"
   ]
  },
  {
   "cell_type": "code",
   "execution_count": 257,
   "id": "beeb11f1-40f1-4a8f-8da7-335ba1740584",
   "metadata": {},
   "outputs": [],
   "source": [
    "parking_space_fill = cldf.parking_space.fillna(park_fill_value, inplace = True)"
   ]
  },
  {
   "cell_type": "code",
   "execution_count": 259,
   "id": "fa350c8c-5988-4534-8959-f24a51fac692",
   "metadata": {},
   "outputs": [],
   "source": [
    "cldf.to_csv('further_cleaned_housing_data.csv', index=False)"
   ]
  },
  {
   "cell_type": "code",
   "execution_count": 261,
   "id": "3a32a31e-f437-424f-aa18-87970a7893ed",
   "metadata": {},
   "outputs": [],
   "source": [
    "ds = pd.read_csv(r\"C:\\Users\\HP\\Desktop\\Webfala\\further_cleaned_housing_data.csv\")"
   ]
  },
  {
   "cell_type": "code",
   "execution_count": 262,
   "id": "65b6f152-4695-4d79-abae-164d22c50e6c",
   "metadata": {},
   "outputs": [
    {
     "data": {
      "text/plain": [
       "ID               0\n",
       "locn             0\n",
       "title            0\n",
       "bedroom          0\n",
       "bathroom         0\n",
       "parking_space    0\n",
       "price            0\n",
       "dtype: int64"
      ]
     },
     "execution_count": 262,
     "metadata": {},
     "output_type": "execute_result"
    }
   ],
   "source": [
    "ds.isnull().sum()"
   ]
  },
  {
   "cell_type": "code",
   "execution_count": 263,
   "id": "cb2defb1-988b-4d24-8c7b-c0626d7765df",
   "metadata": {},
   "outputs": [],
   "source": [
    "ds.drop('ID', axis=1, inplace=True)"
   ]
  },
  {
   "cell_type": "code",
   "execution_count": 265,
   "id": "c128b4d2-8760-4c42-bc0f-a7dbec22ac53",
   "metadata": {},
   "outputs": [
    {
     "data": {
      "text/plain": [
       "37"
      ]
     },
     "execution_count": 265,
     "metadata": {},
     "output_type": "execute_result"
    }
   ],
   "source": [
    "ds.locn.nunique()"
   ]
  },
  {
   "cell_type": "code",
   "execution_count": 266,
   "id": "154c6a4b-0b49-4b2e-a405-e5e953272594",
   "metadata": {},
   "outputs": [],
   "source": [
    "ds['locn'] = pd.factorize(ds['locn'])[0] + 1"
   ]
  },
  {
   "cell_type": "code",
   "execution_count": 274,
   "id": "44fa4425-2abd-417f-8598-e193892b5400",
   "metadata": {},
   "outputs": [
    {
     "data": {
      "text/html": [
       "<div>\n",
       "<style scoped>\n",
       "    .dataframe tbody tr th:only-of-type {\n",
       "        vertical-align: middle;\n",
       "    }\n",
       "\n",
       "    .dataframe tbody tr th {\n",
       "        vertical-align: top;\n",
       "    }\n",
       "\n",
       "    .dataframe thead th {\n",
       "        text-align: right;\n",
       "    }\n",
       "</style>\n",
       "<table border=\"1\" class=\"dataframe\">\n",
       "  <thead>\n",
       "    <tr style=\"text-align: right;\">\n",
       "      <th></th>\n",
       "      <th>locn</th>\n",
       "      <th>title</th>\n",
       "      <th>bedroom</th>\n",
       "      <th>bathroom</th>\n",
       "      <th>parking_space</th>\n",
       "      <th>price</th>\n",
       "    </tr>\n",
       "  </thead>\n",
       "  <tbody>\n",
       "    <tr>\n",
       "      <th>0</th>\n",
       "      <td>1</td>\n",
       "      <td>1</td>\n",
       "      <td>2.0</td>\n",
       "      <td>2.0</td>\n",
       "      <td>1.000000</td>\n",
       "      <td>1149999.565</td>\n",
       "    </tr>\n",
       "    <tr>\n",
       "      <th>1</th>\n",
       "      <td>2</td>\n",
       "      <td>2</td>\n",
       "      <td>1.0</td>\n",
       "      <td>2.0</td>\n",
       "      <td>4.000000</td>\n",
       "      <td>1672416.689</td>\n",
       "    </tr>\n",
       "    <tr>\n",
       "      <th>2</th>\n",
       "      <td>3</td>\n",
       "      <td>3</td>\n",
       "      <td>7.0</td>\n",
       "      <td>5.0</td>\n",
       "      <td>3.125656</td>\n",
       "      <td>3364799.814</td>\n",
       "    </tr>\n",
       "    <tr>\n",
       "      <th>3</th>\n",
       "      <td>4</td>\n",
       "      <td>4</td>\n",
       "      <td>5.0</td>\n",
       "      <td>2.0</td>\n",
       "      <td>4.000000</td>\n",
       "      <td>2410306.756</td>\n",
       "    </tr>\n",
       "    <tr>\n",
       "      <th>4</th>\n",
       "      <td>5</td>\n",
       "      <td>5</td>\n",
       "      <td>1.0</td>\n",
       "      <td>5.0</td>\n",
       "      <td>6.000000</td>\n",
       "      <td>2600700.898</td>\n",
       "    </tr>\n",
       "  </tbody>\n",
       "</table>\n",
       "</div>"
      ],
      "text/plain": [
       "   locn  title  bedroom  bathroom  parking_space        price\n",
       "0     1      1      2.0       2.0       1.000000  1149999.565\n",
       "1     2      2      1.0       2.0       4.000000  1672416.689\n",
       "2     3      3      7.0       5.0       3.125656  3364799.814\n",
       "3     4      4      5.0       2.0       4.000000  2410306.756\n",
       "4     5      5      1.0       5.0       6.000000  2600700.898"
      ]
     },
     "execution_count": 274,
     "metadata": {},
     "output_type": "execute_result"
    }
   ],
   "source": [
    "ds.head()"
   ]
  },
  {
   "cell_type": "code",
   "execution_count": 270,
   "id": "f5dbb63c-d8a3-4004-8e9c-8bace51734e0",
   "metadata": {},
   "outputs": [
    {
     "data": {
      "text/plain": [
       "array(['Semi-detached duplex', 'Apartment', 'unamed_houses',\n",
       "       'Detached duplex', 'Terrace duplex', 'Mansion', 'Bungalow',\n",
       "       'Penthouse', 'Townhouse', 'Cottage', 'Flat'], dtype=object)"
      ]
     },
     "execution_count": 270,
     "metadata": {},
     "output_type": "execute_result"
    }
   ],
   "source": [
    "ds.title.unique()"
   ]
  },
  {
   "cell_type": "code",
   "execution_count": 271,
   "id": "587be84e-129c-4b2b-826a-8e1bcd0103fb",
   "metadata": {},
   "outputs": [],
   "source": [
    "ds['title'] = pd.factorize(ds['title'])[0] + 1"
   ]
  },
  {
   "cell_type": "code",
   "execution_count": 273,
   "id": "8c1942b3-bfd9-45c2-92b4-e7c056030ca0",
   "metadata": {},
   "outputs": [
    {
     "data": {
      "text/html": [
       "<div>\n",
       "<style scoped>\n",
       "    .dataframe tbody tr th:only-of-type {\n",
       "        vertical-align: middle;\n",
       "    }\n",
       "\n",
       "    .dataframe tbody tr th {\n",
       "        vertical-align: top;\n",
       "    }\n",
       "\n",
       "    .dataframe thead th {\n",
       "        text-align: right;\n",
       "    }\n",
       "</style>\n",
       "<table border=\"1\" class=\"dataframe\">\n",
       "  <thead>\n",
       "    <tr style=\"text-align: right;\">\n",
       "      <th></th>\n",
       "      <th>locn</th>\n",
       "      <th>title</th>\n",
       "      <th>bedroom</th>\n",
       "      <th>bathroom</th>\n",
       "      <th>parking_space</th>\n",
       "      <th>price</th>\n",
       "    </tr>\n",
       "  </thead>\n",
       "  <tbody>\n",
       "    <tr>\n",
       "      <th>0</th>\n",
       "      <td>1</td>\n",
       "      <td>1</td>\n",
       "      <td>2.0</td>\n",
       "      <td>2.0</td>\n",
       "      <td>1.000000</td>\n",
       "      <td>1149999.565</td>\n",
       "    </tr>\n",
       "    <tr>\n",
       "      <th>1</th>\n",
       "      <td>2</td>\n",
       "      <td>2</td>\n",
       "      <td>1.0</td>\n",
       "      <td>2.0</td>\n",
       "      <td>4.000000</td>\n",
       "      <td>1672416.689</td>\n",
       "    </tr>\n",
       "    <tr>\n",
       "      <th>2</th>\n",
       "      <td>3</td>\n",
       "      <td>3</td>\n",
       "      <td>7.0</td>\n",
       "      <td>5.0</td>\n",
       "      <td>3.125656</td>\n",
       "      <td>3364799.814</td>\n",
       "    </tr>\n",
       "    <tr>\n",
       "      <th>3</th>\n",
       "      <td>4</td>\n",
       "      <td>4</td>\n",
       "      <td>5.0</td>\n",
       "      <td>2.0</td>\n",
       "      <td>4.000000</td>\n",
       "      <td>2410306.756</td>\n",
       "    </tr>\n",
       "    <tr>\n",
       "      <th>4</th>\n",
       "      <td>5</td>\n",
       "      <td>5</td>\n",
       "      <td>1.0</td>\n",
       "      <td>5.0</td>\n",
       "      <td>6.000000</td>\n",
       "      <td>2600700.898</td>\n",
       "    </tr>\n",
       "  </tbody>\n",
       "</table>\n",
       "</div>"
      ],
      "text/plain": [
       "   locn  title  bedroom  bathroom  parking_space        price\n",
       "0     1      1      2.0       2.0       1.000000  1149999.565\n",
       "1     2      2      1.0       2.0       4.000000  1672416.689\n",
       "2     3      3      7.0       5.0       3.125656  3364799.814\n",
       "3     4      4      5.0       2.0       4.000000  2410306.756\n",
       "4     5      5      1.0       5.0       6.000000  2600700.898"
      ]
     },
     "execution_count": 273,
     "metadata": {},
     "output_type": "execute_result"
    }
   ],
   "source": [
    "ds.head()"
   ]
  },
  {
   "cell_type": "code",
   "execution_count": 276,
   "id": "8a47ee5f-97db-4c6a-9a45-365efdc3ebed",
   "metadata": {},
   "outputs": [
    {
     "data": {
      "text/plain": [
       "(13994, 6)"
      ]
     },
     "execution_count": 276,
     "metadata": {},
     "output_type": "execute_result"
    }
   ],
   "source": [
    "ds.shape"
   ]
  },
  {
   "cell_type": "code",
   "execution_count": 278,
   "id": "c5641e83-1fc4-4afd-9d76-806957a44f44",
   "metadata": {},
   "outputs": [],
   "source": [
    "X = ds[['locn','title','bedroom','bathroom','parking_space']]\n",
    "y = ds['price']"
   ]
  },
  {
   "cell_type": "code",
   "execution_count": 279,
   "id": "47a42016-cce9-49fd-9ef8-2d5756767325",
   "metadata": {},
   "outputs": [],
   "source": [
    "X_train,X_test,y_train,y_test = train_test_split(X,y, test_size=.18, random_state=4)"
   ]
  },
  {
   "cell_type": "code",
   "execution_count": 280,
   "id": "a5b51606-279b-4878-92cb-32416f5d5e90",
   "metadata": {},
   "outputs": [
    {
     "name": "stdout",
     "output_type": "stream",
     "text": [
      "(11475, 5)\n",
      "(2519, 5)\n",
      "(11475,)\n",
      "(2519,)\n"
     ]
    }
   ],
   "source": [
    "print(X_train.shape)\n",
    "print(X_test.shape)\n",
    "print(y_train.shape)\n",
    "print(y_test.shape)"
   ]
  },
  {
   "cell_type": "code",
   "execution_count": 281,
   "id": "83101b80-c4ad-4bd9-92bb-e02d4040a7df",
   "metadata": {},
   "outputs": [],
   "source": [
    "model = DecisionTreeRegressor()"
   ]
  },
  {
   "cell_type": "code",
   "execution_count": 282,
   "id": "45fe37e9-3b25-40a1-9295-1cfdd29e6973",
   "metadata": {},
   "outputs": [
    {
     "data": {
      "text/html": [
       "<style>#sk-container-id-1 {color: black;background-color: white;}#sk-container-id-1 pre{padding: 0;}#sk-container-id-1 div.sk-toggleable {background-color: white;}#sk-container-id-1 label.sk-toggleable__label {cursor: pointer;display: block;width: 100%;margin-bottom: 0;padding: 0.3em;box-sizing: border-box;text-align: center;}#sk-container-id-1 label.sk-toggleable__label-arrow:before {content: \"▸\";float: left;margin-right: 0.25em;color: #696969;}#sk-container-id-1 label.sk-toggleable__label-arrow:hover:before {color: black;}#sk-container-id-1 div.sk-estimator:hover label.sk-toggleable__label-arrow:before {color: black;}#sk-container-id-1 div.sk-toggleable__content {max-height: 0;max-width: 0;overflow: hidden;text-align: left;background-color: #f0f8ff;}#sk-container-id-1 div.sk-toggleable__content pre {margin: 0.2em;color: black;border-radius: 0.25em;background-color: #f0f8ff;}#sk-container-id-1 input.sk-toggleable__control:checked~div.sk-toggleable__content {max-height: 200px;max-width: 100%;overflow: auto;}#sk-container-id-1 input.sk-toggleable__control:checked~label.sk-toggleable__label-arrow:before {content: \"▾\";}#sk-container-id-1 div.sk-estimator input.sk-toggleable__control:checked~label.sk-toggleable__label {background-color: #d4ebff;}#sk-container-id-1 div.sk-label input.sk-toggleable__control:checked~label.sk-toggleable__label {background-color: #d4ebff;}#sk-container-id-1 input.sk-hidden--visually {border: 0;clip: rect(1px 1px 1px 1px);clip: rect(1px, 1px, 1px, 1px);height: 1px;margin: -1px;overflow: hidden;padding: 0;position: absolute;width: 1px;}#sk-container-id-1 div.sk-estimator {font-family: monospace;background-color: #f0f8ff;border: 1px dotted black;border-radius: 0.25em;box-sizing: border-box;margin-bottom: 0.5em;}#sk-container-id-1 div.sk-estimator:hover {background-color: #d4ebff;}#sk-container-id-1 div.sk-parallel-item::after {content: \"\";width: 100%;border-bottom: 1px solid gray;flex-grow: 1;}#sk-container-id-1 div.sk-label:hover label.sk-toggleable__label {background-color: #d4ebff;}#sk-container-id-1 div.sk-serial::before {content: \"\";position: absolute;border-left: 1px solid gray;box-sizing: border-box;top: 0;bottom: 0;left: 50%;z-index: 0;}#sk-container-id-1 div.sk-serial {display: flex;flex-direction: column;align-items: center;background-color: white;padding-right: 0.2em;padding-left: 0.2em;position: relative;}#sk-container-id-1 div.sk-item {position: relative;z-index: 1;}#sk-container-id-1 div.sk-parallel {display: flex;align-items: stretch;justify-content: center;background-color: white;position: relative;}#sk-container-id-1 div.sk-item::before, #sk-container-id-1 div.sk-parallel-item::before {content: \"\";position: absolute;border-left: 1px solid gray;box-sizing: border-box;top: 0;bottom: 0;left: 50%;z-index: -1;}#sk-container-id-1 div.sk-parallel-item {display: flex;flex-direction: column;z-index: 1;position: relative;background-color: white;}#sk-container-id-1 div.sk-parallel-item:first-child::after {align-self: flex-end;width: 50%;}#sk-container-id-1 div.sk-parallel-item:last-child::after {align-self: flex-start;width: 50%;}#sk-container-id-1 div.sk-parallel-item:only-child::after {width: 0;}#sk-container-id-1 div.sk-dashed-wrapped {border: 1px dashed gray;margin: 0 0.4em 0.5em 0.4em;box-sizing: border-box;padding-bottom: 0.4em;background-color: white;}#sk-container-id-1 div.sk-label label {font-family: monospace;font-weight: bold;display: inline-block;line-height: 1.2em;}#sk-container-id-1 div.sk-label-container {text-align: center;}#sk-container-id-1 div.sk-container {/* jupyter's `normalize.less` sets `[hidden] { display: none; }` but bootstrap.min.css set `[hidden] { display: none !important; }` so we also need the `!important` here to be able to override the default hidden behavior on the sphinx rendered scikit-learn.org. See: https://github.com/scikit-learn/scikit-learn/issues/21755 */display: inline-block !important;position: relative;}#sk-container-id-1 div.sk-text-repr-fallback {display: none;}</style><div id=\"sk-container-id-1\" class=\"sk-top-container\"><div class=\"sk-text-repr-fallback\"><pre>DecisionTreeRegressor()</pre><b>In a Jupyter environment, please rerun this cell to show the HTML representation or trust the notebook. <br />On GitHub, the HTML representation is unable to render, please try loading this page with nbviewer.org.</b></div><div class=\"sk-container\" hidden><div class=\"sk-item\"><div class=\"sk-estimator sk-toggleable\"><input class=\"sk-toggleable__control sk-hidden--visually\" id=\"sk-estimator-id-1\" type=\"checkbox\" checked><label for=\"sk-estimator-id-1\" class=\"sk-toggleable__label sk-toggleable__label-arrow\">DecisionTreeRegressor</label><div class=\"sk-toggleable__content\"><pre>DecisionTreeRegressor()</pre></div></div></div></div></div>"
      ],
      "text/plain": [
       "DecisionTreeRegressor()"
      ]
     },
     "execution_count": 282,
     "metadata": {},
     "output_type": "execute_result"
    }
   ],
   "source": [
    "model.fit(X_train,y_train)"
   ]
  },
  {
   "cell_type": "code",
   "execution_count": 283,
   "id": "0f474478-6035-425c-8b9f-37180f669742",
   "metadata": {},
   "outputs": [],
   "source": [
    "y_pred = model.predict(X_test)"
   ]
  },
  {
   "cell_type": "code",
   "execution_count": 284,
   "id": "a9437e19-eec7-4135-9dbb-94399d08824c",
   "metadata": {},
   "outputs": [
    {
     "data": {
      "text/plain": [
       "851158280165.8241"
      ]
     },
     "execution_count": 284,
     "metadata": {},
     "output_type": "execute_result"
    }
   ],
   "source": [
    "mse = mean_squared_error(y_test,y_pred)\n",
    "mse"
   ]
  },
  {
   "cell_type": "code",
   "execution_count": 286,
   "id": "5d1dd6d7-4f1e-42bd-a6f3-37ab08f3cd20",
   "metadata": {},
   "outputs": [],
   "source": [
    "model2 = LinearRegression()"
   ]
  },
  {
   "cell_type": "code",
   "execution_count": 287,
   "id": "9bb4d519-f71a-41c1-92d8-e5af727f96cb",
   "metadata": {},
   "outputs": [
    {
     "data": {
      "text/html": [
       "<style>#sk-container-id-2 {color: black;background-color: white;}#sk-container-id-2 pre{padding: 0;}#sk-container-id-2 div.sk-toggleable {background-color: white;}#sk-container-id-2 label.sk-toggleable__label {cursor: pointer;display: block;width: 100%;margin-bottom: 0;padding: 0.3em;box-sizing: border-box;text-align: center;}#sk-container-id-2 label.sk-toggleable__label-arrow:before {content: \"▸\";float: left;margin-right: 0.25em;color: #696969;}#sk-container-id-2 label.sk-toggleable__label-arrow:hover:before {color: black;}#sk-container-id-2 div.sk-estimator:hover label.sk-toggleable__label-arrow:before {color: black;}#sk-container-id-2 div.sk-toggleable__content {max-height: 0;max-width: 0;overflow: hidden;text-align: left;background-color: #f0f8ff;}#sk-container-id-2 div.sk-toggleable__content pre {margin: 0.2em;color: black;border-radius: 0.25em;background-color: #f0f8ff;}#sk-container-id-2 input.sk-toggleable__control:checked~div.sk-toggleable__content {max-height: 200px;max-width: 100%;overflow: auto;}#sk-container-id-2 input.sk-toggleable__control:checked~label.sk-toggleable__label-arrow:before {content: \"▾\";}#sk-container-id-2 div.sk-estimator input.sk-toggleable__control:checked~label.sk-toggleable__label {background-color: #d4ebff;}#sk-container-id-2 div.sk-label input.sk-toggleable__control:checked~label.sk-toggleable__label {background-color: #d4ebff;}#sk-container-id-2 input.sk-hidden--visually {border: 0;clip: rect(1px 1px 1px 1px);clip: rect(1px, 1px, 1px, 1px);height: 1px;margin: -1px;overflow: hidden;padding: 0;position: absolute;width: 1px;}#sk-container-id-2 div.sk-estimator {font-family: monospace;background-color: #f0f8ff;border: 1px dotted black;border-radius: 0.25em;box-sizing: border-box;margin-bottom: 0.5em;}#sk-container-id-2 div.sk-estimator:hover {background-color: #d4ebff;}#sk-container-id-2 div.sk-parallel-item::after {content: \"\";width: 100%;border-bottom: 1px solid gray;flex-grow: 1;}#sk-container-id-2 div.sk-label:hover label.sk-toggleable__label {background-color: #d4ebff;}#sk-container-id-2 div.sk-serial::before {content: \"\";position: absolute;border-left: 1px solid gray;box-sizing: border-box;top: 0;bottom: 0;left: 50%;z-index: 0;}#sk-container-id-2 div.sk-serial {display: flex;flex-direction: column;align-items: center;background-color: white;padding-right: 0.2em;padding-left: 0.2em;position: relative;}#sk-container-id-2 div.sk-item {position: relative;z-index: 1;}#sk-container-id-2 div.sk-parallel {display: flex;align-items: stretch;justify-content: center;background-color: white;position: relative;}#sk-container-id-2 div.sk-item::before, #sk-container-id-2 div.sk-parallel-item::before {content: \"\";position: absolute;border-left: 1px solid gray;box-sizing: border-box;top: 0;bottom: 0;left: 50%;z-index: -1;}#sk-container-id-2 div.sk-parallel-item {display: flex;flex-direction: column;z-index: 1;position: relative;background-color: white;}#sk-container-id-2 div.sk-parallel-item:first-child::after {align-self: flex-end;width: 50%;}#sk-container-id-2 div.sk-parallel-item:last-child::after {align-self: flex-start;width: 50%;}#sk-container-id-2 div.sk-parallel-item:only-child::after {width: 0;}#sk-container-id-2 div.sk-dashed-wrapped {border: 1px dashed gray;margin: 0 0.4em 0.5em 0.4em;box-sizing: border-box;padding-bottom: 0.4em;background-color: white;}#sk-container-id-2 div.sk-label label {font-family: monospace;font-weight: bold;display: inline-block;line-height: 1.2em;}#sk-container-id-2 div.sk-label-container {text-align: center;}#sk-container-id-2 div.sk-container {/* jupyter's `normalize.less` sets `[hidden] { display: none; }` but bootstrap.min.css set `[hidden] { display: none !important; }` so we also need the `!important` here to be able to override the default hidden behavior on the sphinx rendered scikit-learn.org. See: https://github.com/scikit-learn/scikit-learn/issues/21755 */display: inline-block !important;position: relative;}#sk-container-id-2 div.sk-text-repr-fallback {display: none;}</style><div id=\"sk-container-id-2\" class=\"sk-top-container\"><div class=\"sk-text-repr-fallback\"><pre>LinearRegression()</pre><b>In a Jupyter environment, please rerun this cell to show the HTML representation or trust the notebook. <br />On GitHub, the HTML representation is unable to render, please try loading this page with nbviewer.org.</b></div><div class=\"sk-container\" hidden><div class=\"sk-item\"><div class=\"sk-estimator sk-toggleable\"><input class=\"sk-toggleable__control sk-hidden--visually\" id=\"sk-estimator-id-2\" type=\"checkbox\" checked><label for=\"sk-estimator-id-2\" class=\"sk-toggleable__label sk-toggleable__label-arrow\">LinearRegression</label><div class=\"sk-toggleable__content\"><pre>LinearRegression()</pre></div></div></div></div></div>"
      ],
      "text/plain": [
       "LinearRegression()"
      ]
     },
     "execution_count": 287,
     "metadata": {},
     "output_type": "execute_result"
    }
   ],
   "source": [
    "model2.fit(X_train,y_train)"
   ]
  },
  {
   "cell_type": "code",
   "execution_count": 288,
   "id": "214e2750-f51d-49de-8397-63b76c6d1676",
   "metadata": {},
   "outputs": [
    {
     "data": {
      "text/plain": [
       "851158280165.8241"
      ]
     },
     "execution_count": 288,
     "metadata": {},
     "output_type": "execute_result"
    }
   ],
   "source": [
    "mse = mean_squared_error(y_test,y_pred)\n",
    "mse"
   ]
  },
  {
   "cell_type": "code",
   "execution_count": null,
   "id": "05fedcfa-f111-4a71-9f94-c280cfbe0ee2",
   "metadata": {},
   "outputs": [],
   "source": []
  }
 ],
 "metadata": {
  "kernelspec": {
   "display_name": "Python 3 (ipykernel)",
   "language": "python",
   "name": "python3"
  },
  "language_info": {
   "codemirror_mode": {
    "name": "ipython",
    "version": 3
   },
   "file_extension": ".py",
   "mimetype": "text/x-python",
   "name": "python",
   "nbconvert_exporter": "python",
   "pygments_lexer": "ipython3",
   "version": "3.11.7"
  }
 },
 "nbformat": 4,
 "nbformat_minor": 5
}

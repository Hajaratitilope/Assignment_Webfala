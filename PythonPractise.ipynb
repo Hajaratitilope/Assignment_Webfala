{
 "cells": [
  {
   "cell_type": "markdown",
   "id": "3437aad9",
   "metadata": {},
   "source": [
    "Variable creation and printing of the second  letter of data type string\n",
    "casting from bool to integer"
   ]
  },
  {
   "cell_type": "code",
   "execution_count": 54,
   "id": "9347273a-b8e7-41b0-8c7a-3234febd74b7",
   "metadata": {},
   "outputs": [
    {
     "name": "stdout",
     "output_type": "stream",
     "text": [
      "a\n"
     ]
    },
    {
     "data": {
      "text/plain": [
       "0"
      ]
     },
     "execution_count": 54,
     "metadata": {},
     "output_type": "execute_result"
    }
   ],
   "source": [
    "MyName='Hajarat'\n",
    "MyHeight = 163.5\n",
    "Age = 75\n",
    "y = False\n",
    "print(MyName[1])\n",
    "int(y)\n",
    "\n",
    "\n"
   ]
  },
  {
   "cell_type": "markdown",
   "id": "13cbd01e",
   "metadata": {},
   "source": [
    "Creating an empty list and appending a value to it"
   ]
  },
  {
   "cell_type": "code",
   "execution_count": 38,
   "id": "babf241e",
   "metadata": {},
   "outputs": [
    {
     "name": "stdout",
     "output_type": "stream",
     "text": [
      "['Hajarat']\n"
     ]
    }
   ],
   "source": [
    "FavoriteColours = []\n",
    "\n",
    "FavoriteColours.append(MyName)\n",
    "\n",
    "print(FavoriteColours)\n",
    "\n",
    "\n"
   ]
  },
  {
   "cell_type": "markdown",
   "id": "d5b809c7",
   "metadata": {},
   "source": [
    "adding the numeric data types, assigning to a variable and printing the variable"
   ]
  },
  {
   "cell_type": "code",
   "execution_count": 39,
   "id": "ab2c214f",
   "metadata": {},
   "outputs": [
    {
     "name": "stdout",
     "output_type": "stream",
     "text": [
      "238.5\n",
      "['Hajarat', 238.5]\n"
     ]
    }
   ],
   "source": [
    "Extra = MyHeight + Age\n",
    "print(Extra)\n",
    "\n",
    "FavoriteColours.append(Extra)\n",
    "print(FavoriteColours)"
   ]
  },
  {
   "cell_type": "code",
   "execution_count": 56,
   "id": "8baf5a85",
   "metadata": {},
   "outputs": [
    {
     "data": {
      "text/plain": [
       "12"
      ]
     },
     "execution_count": 56,
     "metadata": {},
     "output_type": "execute_result"
    }
   ],
   "source": [
    "FavoriteColours.append(y)\n",
    "len(FavoriteColours)"
   ]
  },
  {
   "cell_type": "code",
   "execution_count": 5,
   "id": "0f1c0d77",
   "metadata": {},
   "outputs": [
    {
     "data": {
      "text/plain": [
       "{'West': ['Osun', 'Ogun', 'Ekiti', 'Ondo', 'Lagos'],\n",
       " 'North': ['Kano', 'Yola', 'Jalingo', 'Maiduguri'],\n",
       " 'East': ['Enugu', 'Abia', 'Delta', 'Rivers']}"
      ]
     },
     "execution_count": 5,
     "metadata": {},
     "output_type": "execute_result"
    }
   ],
   "source": [
    "West = ['Osun', 'Ogun', 'Ekiti', 'Ondo', 'Sokoto']\n",
    "North = ['Kano', 'Yola', 'Jalingo', 'Maiduguri']\n",
    "East = ['Enugu', 'Abia', 'Delta', 'Rivers']\n",
    "\n",
    "West[4] = 'Lagos'\n",
    "\n",
    "Nigeria = {}\n",
    "\n",
    "\n",
    "\n",
    "Nigeria = {'West': West, 'North': North, 'East': East}\n",
    "Nigeria\n",
    "\n",
    "\n",
    "\n"
   ]
  },
  {
   "cell_type": "code",
   "execution_count": null,
   "id": "7fb4a741-34c2-4ed8-9943-33622c9e81a2",
   "metadata": {},
   "outputs": [],
   "source": []
  }
 ],
 "metadata": {
  "kernelspec": {
   "display_name": "Python 3 (ipykernel)",
   "language": "python",
   "name": "python3"
  },
  "language_info": {
   "codemirror_mode": {
    "name": "ipython",
    "version": 3
   },
   "file_extension": ".py",
   "mimetype": "text/x-python",
   "name": "python",
   "nbconvert_exporter": "python",
   "pygments_lexer": "ipython3",
   "version": "3.11.7"
  }
 },
 "nbformat": 4,
 "nbformat_minor": 5
}
